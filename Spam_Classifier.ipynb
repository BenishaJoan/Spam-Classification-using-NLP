{
  "nbformat": 4,
  "nbformat_minor": 0,
  "metadata": {
    "colab": {
      "name": "Spam_Classifier.ipynb",
      "provenance": [],
      "collapsed_sections": []
    },
    "kernelspec": {
      "display_name": "Python 3",
      "name": "python3"
    },
    "language_info": {
      "name": "python"
    }
  },
  "cells": [
    {
      "cell_type": "code",
      "metadata": {
        "id": "O9bHOirUi8tR",
        "colab": {
          "base_uri": "https://localhost:8080/"
        },
        "outputId": "4f838922-ae68-45ef-da24-35a58e1e8abd"
      },
      "source": [
        "import pandas as pd\n",
        "import nltk\n",
        "from nltk.corpus import stopwords\n",
        "import re\n",
        "from sklearn.feature_extraction.text import CountVectorizer\n",
        "from nltk.stem import PorterStemmer\n",
        "nltk.download('stopwords')"
      ],
      "execution_count": null,
      "outputs": [
        {
          "output_type": "stream",
          "text": [
            "[nltk_data] Downloading package stopwords to /root/nltk_data...\n",
            "[nltk_data]   Unzipping corpora/stopwords.zip.\n"
          ],
          "name": "stdout"
        },
        {
          "output_type": "execute_result",
          "data": {
            "text/plain": [
              "True"
            ]
          },
          "metadata": {
            "tags": []
          },
          "execution_count": 1
        }
      ]
    },
    {
      "cell_type": "code",
      "metadata": {
        "id": "7qICx99JsXRk"
      },
      "source": [
        "import io\n",
        "from google.colab import files"
      ],
      "execution_count": null,
      "outputs": []
    },
    {
      "cell_type": "code",
      "metadata": {
        "colab": {
          "resources": {
            "http://localhost:8080/nbextensions/google.colab/files.js": {
              "data": "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",
              "ok": true,
              "headers": [
                [
                  "content-type",
                  "application/javascript"
                ]
              ],
              "status": 200,
              "status_text": "OK"
            }
          },
          "base_uri": "https://localhost:8080/",
          "height": 74
        },
        "id": "iuxVFl5uwYpL",
        "outputId": "92c0e3c3-8e5d-4f0c-8cfb-926fd3643866"
      },
      "source": [
        "uploaded = files.upload()"
      ],
      "execution_count": null,
      "outputs": [
        {
          "output_type": "display_data",
          "data": {
            "text/html": [
              "\n",
              "     <input type=\"file\" id=\"files-fb657138-1e4d-4b94-ac1a-fc483b54e465\" name=\"files[]\" multiple disabled\n",
              "        style=\"border:none\" />\n",
              "     <output id=\"result-fb657138-1e4d-4b94-ac1a-fc483b54e465\">\n",
              "      Upload widget is only available when the cell has been executed in the\n",
              "      current browser session. Please rerun this cell to enable.\n",
              "      </output>\n",
              "      <script src=\"/nbextensions/google.colab/files.js\"></script> "
            ],
            "text/plain": [
              "<IPython.core.display.HTML object>"
            ]
          },
          "metadata": {
            "tags": []
          }
        },
        {
          "output_type": "stream",
          "text": [
            "Saving SMSSpamCollection.csv to SMSSpamCollection.csv\n"
          ],
          "name": "stdout"
        }
      ]
    },
    {
      "cell_type": "code",
      "metadata": {
        "colab": {
          "base_uri": "https://localhost:8080/",
          "height": 206
        },
        "id": "P2wIBSZ0wcF8",
        "outputId": "f86af1a9-ac0d-40c2-ef16-7f0884913bef"
      },
      "source": [
        "df = pd.read_csv('SMSSpamCollection.csv',error_bad_lines=False,names=['Spam','Message'],sep='\\t')\n",
        "df.head()"
      ],
      "execution_count": null,
      "outputs": [
        {
          "output_type": "execute_result",
          "data": {
            "text/html": [
              "<div>\n",
              "<style scoped>\n",
              "    .dataframe tbody tr th:only-of-type {\n",
              "        vertical-align: middle;\n",
              "    }\n",
              "\n",
              "    .dataframe tbody tr th {\n",
              "        vertical-align: top;\n",
              "    }\n",
              "\n",
              "    .dataframe thead th {\n",
              "        text-align: right;\n",
              "    }\n",
              "</style>\n",
              "<table border=\"1\" class=\"dataframe\">\n",
              "  <thead>\n",
              "    <tr style=\"text-align: right;\">\n",
              "      <th></th>\n",
              "      <th>Spam</th>\n",
              "      <th>Message</th>\n",
              "    </tr>\n",
              "  </thead>\n",
              "  <tbody>\n",
              "    <tr>\n",
              "      <th>0</th>\n",
              "      <td>ham</td>\n",
              "      <td>Go until jurong point, crazy.. Available only ...</td>\n",
              "    </tr>\n",
              "    <tr>\n",
              "      <th>1</th>\n",
              "      <td>ham</td>\n",
              "      <td>Ok lar... Joking wif u oni...</td>\n",
              "    </tr>\n",
              "    <tr>\n",
              "      <th>2</th>\n",
              "      <td>spam</td>\n",
              "      <td>Free entry in 2 a wkly comp to win FA Cup fina...</td>\n",
              "    </tr>\n",
              "    <tr>\n",
              "      <th>3</th>\n",
              "      <td>ham</td>\n",
              "      <td>U dun say so early hor... U c already then say...</td>\n",
              "    </tr>\n",
              "    <tr>\n",
              "      <th>4</th>\n",
              "      <td>ham</td>\n",
              "      <td>Nah I don't think he goes to usf, he lives aro...</td>\n",
              "    </tr>\n",
              "  </tbody>\n",
              "</table>\n",
              "</div>"
            ],
            "text/plain": [
              "   Spam                                            Message\n",
              "0   ham  Go until jurong point, crazy.. Available only ...\n",
              "1   ham                      Ok lar... Joking wif u oni...\n",
              "2  spam  Free entry in 2 a wkly comp to win FA Cup fina...\n",
              "3   ham  U dun say so early hor... U c already then say...\n",
              "4   ham  Nah I don't think he goes to usf, he lives aro..."
            ]
          },
          "metadata": {
            "tags": []
          },
          "execution_count": 4
        }
      ]
    },
    {
      "cell_type": "markdown",
      "metadata": {
        "id": "BHVHTwkDRBAp"
      },
      "source": [
        "Cleaning the text\n",
        "\n"
      ]
    },
    {
      "cell_type": "code",
      "metadata": {
        "id": "oOFBITNDZ2Jt"
      },
      "source": [
        "stemmer = PorterStemmer()"
      ],
      "execution_count": null,
      "outputs": []
    },
    {
      "cell_type": "code",
      "metadata": {
        "id": "JiABJrBCw59Q"
      },
      "source": [
        "corpus = []\n",
        "for i in range(len(df)):\n",
        "  review = re.sub('[^a-zA-Z]',' ',df['Message'][i])\n",
        "  review = review.lower()\n",
        "  review = review.split()\n",
        "  review = [stemmer.stem(word) for word in review if word not in stopwords.words('english')]\n",
        "  #review = list(filter(lambda token: nltk.tokenize.punkt.PunktToken(token).is_non_punct, review))\n",
        "  review = ' '.join(review)\n",
        "  corpus.append(review)"
      ],
      "execution_count": null,
      "outputs": []
    },
    {
      "cell_type": "code",
      "metadata": {
        "id": "3AYY6z5XYRVL",
        "colab": {
          "base_uri": "https://localhost:8080/"
        },
        "outputId": "87197d7d-4c00-463d-8270-60930ccd99c3"
      },
      "source": [
        "corpus"
      ],
      "execution_count": null,
      "outputs": [
        {
          "output_type": "execute_result",
          "data": {
            "text/plain": [
              "['go jurong point crazi avail bugi n great world la e buffet cine got amor wat',\n",
              " 'ok lar joke wif u oni',\n",
              " 'free entri wkli comp win fa cup final tkt st may text fa receiv entri question std txt rate c appli',\n",
              " 'u dun say earli hor u c alreadi say',\n",
              " 'nah think goe usf live around though',\n",
              " 'freemsg hey darl week word back like fun still tb ok xxx std chg send rcv',\n",
              " 'even brother like speak treat like aid patent',\n",
              " 'per request mell mell oru minnaminungint nurungu vettam set callertun caller press copi friend callertun',\n",
              " 'winner valu network custom select receivea prize reward claim call claim code kl valid hour',\n",
              " 'mobil month u r entitl updat latest colour mobil camera free call mobil updat co free',\n",
              " 'gonna home soon want talk stuff anymor tonight k cri enough today',\n",
              " 'six chanc win cash pound txt csh send cost p day day tsandc appli repli hl info',\n",
              " 'urgent week free membership prize jackpot txt word claim c www dbuk net lccltd pobox ldnw rw',\n",
              " 'search right word thank breather promis wont take help grant fulfil promis wonder bless time',\n",
              " 'date sunday',\n",
              " 'xxxmobilemovieclub use credit click wap link next txt messag click http wap xxxmobilemovieclub com n qjkgighjjgcbl',\n",
              " 'oh k watch',\n",
              " 'eh u rememb spell name ye v naughti make v wet',\n",
              " 'fine way u feel way gota b',\n",
              " 'england v macedonia dont miss goal team news txt ur nation team eg england tri wale scotland txt poboxox w wq',\n",
              " 'serious spell name',\n",
              " 'go tri month ha ha joke',\n",
              " 'pay first lar da stock comin',\n",
              " 'aft finish lunch go str lor ard smth lor u finish ur lunch alreadi',\n",
              " 'ffffffffff alright way meet sooner',\n",
              " 'forc eat slice realli hungri tho suck mark get worri know sick turn pizza lol',\n",
              " 'lol alway convinc',\n",
              " 'catch bu fri egg make tea eat mom left dinner feel love',\n",
              " 'back amp pack car let know room',\n",
              " 'ahhh work vagu rememb feel like lol',\n",
              " 'wait still clear sure sarcast x want live us',\n",
              " 'yeah got v apologet n fallen actin like spoilt child got caught till go badli cheer',\n",
              " 'k tell anyth',\n",
              " 'fear faint housework quick cuppa',\n",
              " 'thank subscript rington uk mobil charg month pleas confirm repli ye repli charg',\n",
              " 'yup ok go home look time msg xuhui go learn nd may lesson',\n",
              " 'oop let know roommat done',\n",
              " 'see letter b car',\n",
              " 'anyth lor u decid',\n",
              " 'hello saturday go text see decid anyth tomo tri invit anyth',\n",
              " 'pl go ahead watt want sure great weekend abiola',\n",
              " 'forget tell want need crave love sweet arabian steed mmmmmm yummi',\n",
              " 'rodger burn msg tri call repli sm free nokia mobil free camcord pleas call deliveri tomorrow',\n",
              " 'see',\n",
              " 'great hope like man well endow lt gt inch',\n",
              " 'call messag miss call',\n",
              " 'get hep b immunis nigeria',\n",
              " 'fair enough anyth go',\n",
              " 'yeah hope tyler could mayb ask around bit',\n",
              " 'u know stubborn even want go hospit kept tell mark weak sucker hospit weak sucker',\n",
              " 'think first time saw class',\n",
              " 'gram usual run like lt gt half eighth smarter though get almost whole second gram lt gt',\n",
              " 'k fyi x ride earli tomorrow morn crash place tonight',\n",
              " 'wow never realiz embarass accomod thought like sinc best could alway seem happi cave sorri give sorri offer sorri room embarass',\n",
              " 'sm ac sptv new jersey devil detroit red wing play ice hockey correct incorrect end repli end sptv',\n",
              " 'know mallika sherawat yesterday find lt url gt',\n",
              " 'congrat year special cinema pass call c suprman v matrix starwar etc free bx ip pm dont miss',\n",
              " 'sorri call later meet',\n",
              " 'tell reach',\n",
              " 'ye gauti sehwag odi seri',\n",
              " 'gonna pick burger way home even move pain kill',\n",
              " 'ha ha ha good joke girl situat seeker',\n",
              " 'part check iq',\n",
              " 'sorri roommat took forev ok come',\n",
              " 'ok lar doubl check wif da hair dresser alreadi said wun cut v short said cut look nice',\n",
              " 'valu custom pleas advis follow recent review mob award bonu prize call',\n",
              " 'today song dedic day song u dedic send ur valuabl frnd first rpli',\n",
              " 'urgent ur award complimentari trip eurodisinc trav aco entri claim txt di morefrmmob shracomorsglsuplt ls aj',\n",
              " 'hear new divorc barbi come ken stuff',\n",
              " 'plane give month end',\n",
              " 'wah lucki man save money hee',\n",
              " 'finish class',\n",
              " 'hi babe im home wanna someth xx',\n",
              " 'k k perform',\n",
              " 'u call',\n",
              " 'wait machan call free',\n",
              " 'that cool gentleman treat digniti respect',\n",
              " 'like peopl much shi pa',\n",
              " 'oper lt gt',\n",
              " 'still look job much ta earn',\n",
              " 'sorri call later',\n",
              " 'k call ah',\n",
              " 'ok way home hi hi',\n",
              " 'place man',\n",
              " 'yup next stop',\n",
              " 'call later network urgnt sm',\n",
              " 'real u get yo need ticket one jacket done alreadi use multi',\n",
              " 'ye start send request make pain came back back bed doubl coin factori gotta cash nitro',\n",
              " 'realli still tonight babe',\n",
              " 'ela kano il download come wen ur free',\n",
              " 'yeah stand close tho catch someth',\n",
              " 'sorri pain ok meet anoth night spent late afternoon casualti mean done stuff moro includ time sheet sorri',\n",
              " 'smile pleasur smile pain smile troubl pour like rain smile sum hurt u smile becoz someon still love see u smile',\n",
              " 'pleas call custom servic repres pm guarante cash prize',\n",
              " 'havent plan buy later check alreadi lido got show e afternoon u finish work alreadi',\n",
              " 'free rington wait collect simpli text password mix verifi get usher britney fml po box mk h ppw',\n",
              " 'watch telugu movi wat abt u',\n",
              " 'see finish load loan pay',\n",
              " 'hi wk ok hol ye bit run forgot hairdress appoint four need get home n shower beforehand caus prob u',\n",
              " 'see cup coffe anim',\n",
              " 'pleas text anymor noth els say',\n",
              " 'okay name ur price long legal wen pick u ave x am xx',\n",
              " 'still look car buy gone drive test yet',\n",
              " 'per request mell mell oru minnaminungint nurungu vettam set callertun caller press copi friend callertun',\n",
              " 'wow right mean guess gave boston men chang search locat nyc someth chang cuz signin page still say boston',\n",
              " 'umma life vava umma love lot dear',\n",
              " 'thank lot wish birthday thank make birthday truli memor',\n",
              " 'aight hit get cash',\n",
              " 'would ip address test consid comput minecraft server',\n",
              " 'know grumpi old peopl mom like better lie alway one play joke',\n",
              " 'dont worri guess busi',\n",
              " 'plural noun research',\n",
              " 'go dinner msg',\n",
              " 'ok wif co like tri new thing scare u dun like mah co u said loud',\n",
              " 'gent tri contact last weekend draw show prize guarante call claim code k valid hr ppm',\n",
              " 'wa ur openin sentenc formal anyway fine juz tt eatin much n puttin weight haha anythin special happen',\n",
              " 'enter cabin pa said happi b day boss felt special askd lunch lunch invit apart went',\n",
              " 'winner u special select receiv holiday flight inc speak live oper claim p min',\n",
              " 'goodo ye must speak friday egg potato ratio tortilla need',\n",
              " 'hmm uncl inform pay school directli pl buy food',\n",
              " 'privat account statement show unredeem bonu point claim call identifi code expir',\n",
              " 'urgent mobil award bonu caller prize final tri contact u call landlin box wr c ppm',\n",
              " 'new address appl pair malarki',\n",
              " 'today voda number end select receiv award match pleas call quot claim code standard rate app',\n",
              " 'go sao mu today done',\n",
              " 'predict wat time finish buy',\n",
              " 'good stuff',\n",
              " 'know yetund sent money yet sent text bother send dont involv anyth impos anyth first place apologis',\n",
              " 'room',\n",
              " 'hey girl r u hope u r well del r bak long time c give call sum time lucyxx',\n",
              " 'k k much cost',\n",
              " 'home',\n",
              " 'dear call tmorrow pl accomod',\n",
              " 'first answer question',\n",
              " 'sunshin quiz wkli q win top soni dvd player u know countri algarv txt ansr sp tyron',\n",
              " 'want get laid tonight want real dog locat sent direct ur mob join uk largest dog network bt txting gravel nt ec p msg p',\n",
              " 'haf msn yiju hotmail com',\n",
              " 'call meet',\n",
              " 'check room befor activ',\n",
              " 'rcv msg chat svc free hardcor servic text go u get noth u must age verifi yr network tri',\n",
              " 'got c lazi type forgot lect saw pouch like v nice',\n",
              " 'k text way',\n",
              " 'sir wait mail',\n",
              " 'swt thought nver get tire littl thing lovabl person coz somtim littl thing occupi biggest part heart gud ni',\n",
              " 'know pl open back',\n",
              " 'ye see ya dot',\n",
              " 'what staff name take class us',\n",
              " 'freemsg repli text randi sexi femal live local luv hear u netcollex ltd p per msg repli stop end',\n",
              " 'ummma call check life begin qatar pl pray hard',\n",
              " 'k delet contact',\n",
              " 'sindu got job birla soft',\n",
              " 'wine flow never',\n",
              " 'yup thk cine better co need go plaza mah',\n",
              " 'ok ur typic repli',\n",
              " 'per request mell mell oru minnaminungint nurungu vettam set callertun caller press copi friend callertun',\n",
              " 'everywher dirt floor window even shirt sometim open mouth come flow dream world without half chore time joy lot tv show see guess like thing must exist like rain hail mist time done becom one',\n",
              " 'aaooooright work',\n",
              " 'leav hous',\n",
              " 'hello love get interview today happi good boy think miss',\n",
              " 'custom servic annonc new year deliveri wait pleas call arrang deliveri',\n",
              " 'winner u special select receiv cash holiday flight inc speak live oper claim',\n",
              " 'keep safe need miss alreadi envi everyon see real life',\n",
              " 'new car hous parent new job hand',\n",
              " 'love excit day spend make happi',\n",
              " 'pl stop bootydeli f invit friend repli ye see www sm ac u bootydeli stop send stop frnd',\n",
              " 'bangbab ur order way u receiv servic msg download ur content u goto wap bangb tv ur mobil internet servic menu',\n",
              " 'place ur point e cultur modul alreadi',\n",
              " 'urgent tri contact last weekend draw show prize guarante call claim code valid hr',\n",
              " 'hi frnd best way avoid missunderstd wit belov one',\n",
              " 'great escap fanci bridg need lager see tomo',\n",
              " 'ye complet form clark also utter wast',\n",
              " 'sir need axi bank account bank address',\n",
              " 'hmmm thk sure got time hop ard ya go free abt muz call u discuss liao',\n",
              " 'time come later',\n",
              " 'bloodi hell cant believ forgot surnam mr ill give u clue spanish begin',\n",
              " 'well gonna finish bath good fine night',\n",
              " 'let know got money carlo make call',\n",
              " 'u still go mall',\n",
              " 'turn friend stay whole show back til lt gt feel free go ahead smoke lt gt worth',\n",
              " 'text doesnt repli let know log',\n",
              " 'hi spoke maneesha v like know satisfi experi repli toll free ye',\n",
              " 'lift hope offer money need especi end month approach hurt studi anyway gr weekend',\n",
              " 'lol u trust',\n",
              " 'ok gentleman treat digniti respect',\n",
              " 'guy close',\n",
              " 'go noth great bye',\n",
              " 'hello handsom find job lazi work toward get back net mummi boytoy miss',\n",
              " 'haha awesom minut',\n",
              " 'pleas call custom servic repres freephon pm guarante cash prize',\n",
              " 'got xma radio time get',\n",
              " 'ju reach home go bath first si use net tell u finish k',\n",
              " 'uniqu enough find th august www areyouuniqu co uk',\n",
              " 'sorri join leagu peopl dont keep touch mean great deal friend time even great person cost great week',\n",
              " 'hi final complet cours',\n",
              " 'stop howev suggest stay someon abl give or everi stool',\n",
              " 'hope settl new school year wishin gr day',\n",
              " 'gud mrng dear hav nice day',\n",
              " 'u got person stori',\n",
              " 'hamster dead hey tmr meet pm orchard mrt',\n",
              " 'hi kate even hope see tomorrow bit bloodi babyjontet txt back u xxx',\n",
              " 'found enc lt gt',\n",
              " 'sent lt gt buck',\n",
              " 'hello darlin ive finish colleg txt u finish u love kate xxx',\n",
              " 'account refil success inr lt decim gt keralacircl prepaid account balanc rs lt decim gt transact id kr lt gt',\n",
              " 'goodmorn sleep ga',\n",
              " 'u call alter ok',\n",
              " 'say like dat dun buy ericsson oso cannot oredi lar',\n",
              " 'enter cabin pa said happi b day boss felt special askd lunch lunch invit apart went',\n",
              " 'aight yo dat straight dogg',\n",
              " 'pleas give us connect today lt decim gt refund bill',\n",
              " 'shoot big load get readi',\n",
              " 'bruv hope great break reward semest',\n",
              " 'home alway chat',\n",
              " 'k k good studi well',\n",
              " 'yup noe leh',\n",
              " 'sound great home',\n",
              " 'final match head toward draw predict',\n",
              " 'tire slept well past night',\n",
              " 'easi ah sen got select mean good',\n",
              " 'take exam march',\n",
              " 'yeah think use gt atm regist sure anyway help let know sure readi',\n",
              " 'ok prob take ur time',\n",
              " 'os call ubandu run without instal hard disk use os copi import file system give repair shop',\n",
              " 'sorri call later',\n",
              " 'u say leh cours noth happen lar say v romant ju bit lor thk e nite sceneri nice leh',\n",
              " 'new mobil must go txt nokia collect today www tc biz optout gbp mtmsg',\n",
              " 'would realli appreci call need someon talk',\n",
              " 'u meet ur dream partner soon ur career flyng start find free txt horo follow ur star sign e g horo ari',\n",
              " 'hey compani elama po mudyadhu',\n",
              " 'life strict teacher bcoz teacher teach lesson amp conduct exam life first conduct exam amp teach lesson happi morn',\n",
              " 'dear good morn',\n",
              " 'get gandhipuram walk cross cut road right side lt gt street road turn first right',\n",
              " 'dear go rubber place',\n",
              " 'sorri batteri die yeah',\n",
              " 'ye tv alway avail work place',\n",
              " 'text meet someon sexi today u find date even flirt u join p repli name age eg sam msg recd thirtyeight penc',\n",
              " 'print oh lt gt come upstair',\n",
              " 'ill littl closer like bu stop street',\n",
              " 'wil reach',\n",
              " 'new theori argument win situat lose person dont argu ur friend kick amp say alway correct',\n",
              " 'u secret admir look make contact u find r reveal think ur special call',\n",
              " 'tomarrow final hear laptop case cant',\n",
              " 'pleassssssseeeee tel v avent done sportsx',\n",
              " 'okay shine meant sign sound better',\n",
              " 'although told u dat baig face watch realli like e watch u gave co fr u thanx everyth dat u done today touch',\n",
              " 'u rememb old commerci',\n",
              " 'late said websit dont slipper',\n",
              " 'ask call ok',\n",
              " 'kalli wont bat nd inning',\n",
              " 'didnt work oh ok goodnight fix readi time wake dearli miss good night sleep',\n",
              " 'congratul ur award cd voucher gift guarante free entri wkli draw txt music tnc www ldew com win ppmx age',\n",
              " 'ranjith cal drpd deeraj deepak min hold',\n",
              " 'wen ur lovabl bcum angri wid u dnt take serious coz angri childish n true way show deep affect care n luv kettoda manda nice day da',\n",
              " '',\n",
              " 'up day also ship compani take wk way usp take week get lag may bribe nipost get stuff',\n",
              " 'back lemm know readi',\n",
              " 'necessarili expect done get back though headin',\n",
              " 'mmm yummi babe nice jolt suzi',\n",
              " 'lover need',\n",
              " 'tri contact repli offer video handset anytim network min unlimit text camcord repli call',\n",
              " 'park next mini come today think',\n",
              " 'yup',\n",
              " 'anyway go shop co si done yet dun disturb u liao',\n",
              " 'luton ring ur around h',\n",
              " 'hey realli horni want chat see nake text hot text charg pm unsubscrib text stop',\n",
              " 'dint come us',\n",
              " 'wana plan trip sometm',\n",
              " 'sure yet still tri get hold',\n",
              " 'ur rington servic chang free credit go club mobil com choos content stop txt club stop p wk club po box mk wt',\n",
              " 'evo download flash jealou',\n",
              " 'rington club get uk singl chart mobil week choos top qualiti rington messag free charg',\n",
              " 'come mu sort narcot situat',\n",
              " 'night end anoth day morn come special way may smile like sunni ray leav worri blue blue bay',\n",
              " 'hmv bonu special pound genuin hmv voucher answer easi question play send hmv info www percent real com',\n",
              " 'usf guess might well take car',\n",
              " 'object bf come',\n",
              " 'thanx',\n",
              " 'tell rob mack gf theater',\n",
              " 'awesom see bit',\n",
              " 'sent type food like',\n",
              " 'done hand celebr full swing yet',\n",
              " 'got call tool',\n",
              " 'wen u miss someon person definit special u person special miss keep touch gdeve ham ok ask money far ham oki ham yeah think usual guy still pass last night get ahold anybodi let know throw ham k might come tonight class let earli ham ok ham hi babi im cruisin girl friend r u give call hour home that alright fone fone love jenni xxx ham life mean lot love life love peopl life world call friend call world ge ham dear shall mail tonit busi street shall updat tonit thing look ok varunnathu edukkukaye raksha ollu good one real sens ham hey told name gautham ah ham haf u found feel stupid da v cam work ham oop got bit ham much buzi ham accident delet messag resend pleas spam mobil custom may claim free camera phone upgrad pay go sim card loyalti call offer end thfeb c appli ham unless situat go gurl would appropri ham hurt teas make cri end life die plz keep one rose grave say stupid miss u nice day bslvyl ham cant pick phone right pl send messag ham need coffe run tomo believ time week alreadi ham awesom rememb last time got somebodi high first time diesel v ham shit realli shock scari cant imagin second def night u think somewher could crash night save taxi ham oh way food fridg want go meal tonight ham womdarful actor spam sm ac blind date u rodd aberdeen unit kingdom check http img sm ac w icmb cktz r blind date send hide ham yup remb think book ham jo ask u wana meet ham lol ye friendship hang thread caus u buy stuff spam themob check newest select content game tone gossip babe sport keep mobil fit funki text wap ham garag key bookshelf ham today accept day u accept brother sister lover dear best clo lvblefrnd jstfrnd cutefrnd lifpartnr belovd swtheart bstfrnd rpli mean enemi spam think ur smart win week weekli quiz text play cs winnersclub po box uz gbp week ham say give call friend got money definit buy end week ham hi way u day normal way real ur uniqu hope know u rest mylif hope u find wot lost ham made day great day ham k k advanc happi pongal ham hmmm guess go kb n power yoga haha dunno tahan power yoga anot thk got lo oso forgot liao ham realli dude friend afraid spam decemb mobil mth entitl updat latest colour camera mobil free call mobil updat co free ham coffe cake guess ham merri christma babe love ya kiss ham hey dont go watch x men lunch haha ham cud u tell ppl im gona b bit l co buse hav gon past co full im still waitin pete x ham would great guild could meet bristol road somewher get touch weekend plan take flight good week ham problem ham call messag miss call ham hi da today class ham say good sign well know track record read women ham cool text park ham read text sent meant joke read light ham k k apo k good movi ham mayb could get book tomo return immedi someth spam call germani penc per minut call fix line via access number prepay direct access ham chanc might evapor soon violat privaci steal phone number employ paperwork cool pleas contact report supervisor spam valentin day special win quiz take partner trip lifetim send go p msg rcvd custcar ham ta daaaaa home babe still ham cool come havent wine dine ham sleep surf ham sorri call later ham u call right call hand phone ham ok great thanx lot ham take post come must text happi read one wiv hello carolin end favourit bless ham u hide stranger ham interest like ham sister clear two round birla soft yesterday ham gudnit tc practic go ham di yiju ju saw ur mail case huim havent sent u num di num ham one small prestig problem spam fanci shag interest sextextuk com txt xxuk suzi txt cost per msg tnc websit x ham check realli miss see jeremiah great month ham nah help never iphon ham car hour half go apeshit ham today sorri day ever angri ever misbehav hurt plz plz slap urself bcoz ur fault basic good ham yo guy ever figur much need alcohol jay tri figur much safe spend weed ham lt gt ish minut minut ago wtf ham thank call forgot say happi onam sirji fine rememb met insur person meet qatar insha allah rakhesh ex tata aig join tissco tayseer spam congratul ur award cd voucher gift guarante free entri wkli draw txt music tnc www ldew com win ppmx age spam ur cash balanc current pound maxim ur cash send cash p msg cc hg suit land row w j hl ham actor work work even sleep late sinc unemploy moment alway sleep late unemploy everi day saturday ham hello got st andrew boy long way cold keep post ham ha ha cool cool chikku chikku db ham oh ok prob ham check audrey statu right ham busi tri finish new year look forward final meet ham good afternoon sunshin dawn day refresh happi aliv breath air smile think love alway ham well know z take care worri spam updat xma offer latest motorola sonyericsson nokia free bluetooth doubl min txt orang call mobileupd call optout f q spam discount code rp stop messag repli stop www regalportfolio co uk custom servic ham wat uniform get ham cool text readi ham hello boytoy geeee miss alreadi woke wish bed cuddl love ham spoil bed well ham go bath msg next lt gt min ham cant keep talk peopl sure pay agre price pl tell want realli buy much will pay spam thank rington order refer charg gbp per week unsubscrib anytim call custom servic ham say happen ham could seen recognis face ham well lot thing happen lindsay new year sigh bar ptbo blue heron someth go ham keep payasam rinu bring ham taught ranjith sir call sm like becau he verifi project prabu told today pa dont mistak ham guess worri must know way bodi repair quit sure worri take slow first test guid ovul relax noth said reason worri keep followin ham yeah sure give coupl minut track wallet ham hey leav big deal take care ham hey late ah meet spam doubl min txt month free bluetooth orang avail soni nokia motorola phone call mobileupd call optout n dx ham took mr owl lick ham custom place call ham mm time dont like fun spam mth half price orang line rental latest camera phone free phone mth call mobilesdirect free updat stoptxt ham yup lunch buffet u eat alreadi ham huh late fr dinner ham hey sat go intro pilat kickbox ham morn ok ham ye think offic lap room think that last day didnt shut ham pick bout ish time go ham perform award calcul everi two month current one month period ham actual sleep still might u call back text gr rock si send u text wen wake ham alway put busi put pictur ass facebook one open peopl ever met would think pictur room would hurt make feel violat ham good even sir al salam wahleykkum share happi news grace god got offer tayseer tissco join hope fine inshah allah meet sometim rakhesh visitor india ham hmmm k want chang field quickli da wanna get system administr network administr spam free rington text first poli text get true tone help st free tone x pw e nd txt stop ham dear chechi talk ham hair cream ship ham none happen til get though ham yep great loxahatche xma tree burn lt gt start hour ham haha get use drive usf man know lot stoner ham well slightli disastr class pm fav darl hope day ok coffe wld good stay late tomorrow time place alway ham hello good week fanci drink someth later ham headin toward busetop ham messag text miss sender name miss number miss sent date miss miss u lot that everyth miss sent via fullonsm com ham come room point iron plan weekend ham co want thing ham oki go yan jiu skip ard oso go cine den go mrt one blah blah blah ham bring home wendi spam date servic cal l box sk ch ham whatsup dont u want sleep ham alright new goal spam free entri weekli competit text word win c www txttowin co uk ham alright head minut text meet spam send logo ur lover name join heart txt love name name mobno eg love adam eve yahoo pobox w wq txtno ad p ham ye last week take live call spam someon contact date servic enter phone fanci find call landlin pobox n tf p ham siva hostel aha spam urgent mobil number award prize guarante call land line claim valid hr ham send ur friend receiv someth ur voic speak express childish naughti sentiment rowdi ful attitud romant shi attract funni lt gt irrit lt gt lovabl repli ham ok ok guess ham aathi dear ham pain urin thing els ham esplanad mind give lift co got car today ham wnt buy bmw car urgent vri urgent hv shortag lt gt lac sourc arng di amt lt gt lac that prob ham home watch tv lor ham usual take fifteen fuck minut respond ye question spam congrat nokia video camera phone call call cost ppm ave call min vari mobil close post bcm ldn wc n xx ham book ticket pongal ham avail like right around hillsborough amp lt gt th ham messag sent askin lt gt dollar shoul pay lt gt lt gt ham ask g iouri told stori like ten time alreadi ham long applebe fuck take ham hi hope u get txt journey hasnt gd min late think ham like love arrang ham ye realli great bhaji told kalli best cricket sachin world tough get ham suppos wake gt ham oic saw tot din c found group liao ham sorri call later ham hey hey wereth monkeespeopl say monkeyaround howdi gorgeou howu doin foundurself jobyet sausag love jen xxx',\n",
              " 'sorri batteri die come get gram place',\n",
              " 'well done blimey exercis yeah kinda rememb wot hmm',\n",
              " 'wont get concentr dear know mind everyth',\n",
              " 'lol made plan new year',\n",
              " 'min later k',\n",
              " 'hank lotsli',\n",
              " 'thank hope good day today',\n",
              " 'k k detail want transfer acc enough',\n",
              " 'ok tell stay yeah tough optimist thing improv month',\n",
              " 'loan purpos homeown tenant welcom previous refus still help call free text back help',\n",
              " 'si si think ill go make oreo truffl',\n",
              " 'look ami ure beauti intellig woman like u lot know u like like worri',\n",
              " 'hope result consist intellig kind start ask practicum link keep ear open best ttyl',\n",
              " 'call cost guess isnt bad miss ya need ya want ya love ya',\n",
              " 'go thru differ feel waver decis cope individu time heal everyth believ',\n",
              " 'u go phone gonna die stay',\n",
              " 'great never better day give even reason thank god',\n",
              " 'upgrdcentr orang custom may claim free camera phone upgrad loyalti call offer end th juli c appli opt avail',\n",
              " 'sorri call later ok bye',\n",
              " 'ok way railway',\n",
              " 'great princess love give receiv oral doggi style fave posit enjoy make love lt gt time per night',\n",
              " 'put stuff road keep get slipperi',\n",
              " 'go ride bike',\n",
              " 'yup need ju wait e rain stop',\n",
              " 'mani compani tell languag',\n",
              " 'okmail dear dave final notic collect tenerif holiday cash award call landlin tc sae box cw wx ppm',\n",
              " 'long sinc scream princess',\n",
              " 'noth meant money enter account bank remov flat rate someon transfer lt gt account lt gt dollar got remov bank differ charg also differ sure trust ja person send account detail co',\n",
              " 'want get laid tonight want real dog locat sent direct ur mob join uk largest dog network txting moan nyt ec p msg p',\n",
              " 'nice line said broken heart plz cum time infront wise trust u good',\n",
              " 'ok gonna head usf like fifteen minut',\n",
              " 'love aathi love u lot',\n",
              " 'tension ah machi problem',\n",
              " 'k pick anoth th done',\n",
              " 'guy get back g said think stay mcr',\n",
              " 'almost see u sec',\n",
              " 'yo carlo friend alreadi ask work weekend',\n",
              " 'watch tv lor',\n",
              " 'thank babi cant wait tast real thing',\n",
              " 'chang fb jaykwon thuglyf falconerf',\n",
              " 'win realli side long time',\n",
              " 'free messag activ free text messag repli messag word free term condit visit www com',\n",
              " 'dear reach railway happen',\n",
              " 'depend qualiti want type sent boy fade glori want ralph mayb',\n",
              " 'think fix send test messag',\n",
              " 'sorri man account dri would want could trade back half could buy shit credit card',\n",
              " 'congrat year special cinema pass call c suprman v matrix starwar etc free bx ip pm dont miss',\n",
              " 'sorri meet call later',\n",
              " 'class lt gt reunion',\n",
              " 'free call',\n",
              " 'got meh',\n",
              " 'nope think go monday sorri repli late',\n",
              " 'told accentur confirm true',\n",
              " 'kate jackson rec center ish right',\n",
              " 'dear reach room',\n",
              " 'fight world easi u either win lose bt fightng close u dificult u lose u lose u win u still lose',\n",
              " 'come',\n",
              " 'check nuerologist',\n",
              " 'lolnic went fish water',\n",
              " 'congratul week competit draw u prize claim call b cs stop sm ppm',\n",
              " 'wait e car dat bore wat co wait outsid got noth home stuff watch tv wat',\n",
              " 'mayb westshor hyde park villag place near hous',\n",
              " 'know anthoni bring money school fee pay rent stuff like that need help friend need',\n",
              " 'signific',\n",
              " 'opinion jada kusruthi lovabl silent spl charact matur stylish simpl pl repli',\n",
              " 'latest g still scroung ammo want give new ak tri',\n",
              " 'prabha soryda reali frm heart sori',\n",
              " 'lol ok forgiven',\n",
              " 'jst chang tat',\n",
              " 'guarante latest nokia phone gb ipod mp player prize txt word collect ibhltd ldnw h p mtmsgrcvd',\n",
              " 'competit',\n",
              " 'boltblu tone p repli poli mono eg poli cha cha slide yeah slow jamz toxic come stop tone txt',\n",
              " 'credit top http www bubbletext com renew pin tgxxrz',\n",
              " 'way transport less problemat sat night way u want ask n join bday feel free need know definit no book fri',\n",
              " 'usual person unconsci children adult may behav abnorm call',\n",
              " 'ebay might less elsewher',\n",
              " 'shall come get pickl',\n",
              " 'gonna go get taco',\n",
              " 'rude campu',\n",
              " 'urgent mobil award bonu caller prize nd attempt contact call box qu',\n",
              " 'hi b ard christma enjoy n merri x ma',\n",
              " 'today offer claim ur worth discount voucher text ye savamob member offer mobil cs sub unsub repli x',\n",
              " 'ye pretti ladi like singl',\n",
              " 'reciev tone within next hr term condit pleas see channel u teletext pg',\n",
              " 'jay say doubl faggot',\n",
              " 'privat account statement show un redeem point call identifi code expir',\n",
              " 'today sunday sunday holiday work',\n",
              " 'gudnit tc practic go',\n",
              " 'late',\n",
              " 'call hope l r malaria know miss guy miss bani big pl give love especi great day',\n",
              " 'good afternoon love goe day hope mayb got lead job think boytoy send passion kiss across sea',\n",
              " 'probabl gonna see later tonight lt',\n",
              " 'mayb fat finger press button know',\n",
              " 'ummmmmaah mani mani happi return day dear sweet heart happi birthday dear',\n",
              " 'tirupur da start offic call',\n",
              " 'www applausestor com monthlysubscript p msg max month csc web age stop txt stop',\n",
              " 'famou quot develop abil listen anyth uncondit without lose temper self confid mean marri',\n",
              " 'go colleg pa els ill come self pa',\n",
              " 'oclock mine bash flat plan',\n",
              " 'girl stay bed girl need recoveri time id rather pass fun coop bed',\n",
              " 'special',\n",
              " 'know need get hotel got invit apologis cali sweet come english bloke weddin',\n",
              " 'sorri took long omw',\n",
              " 'wait lt gt min',\n",
              " 'ok give minut think see btw alibi cut hair whole time',\n",
              " 'imagin final get sink bath put pace mayb even eat left also imagin feel cage cock surround bath water remind alway own enjoy cuck',\n",
              " 'hurri weed defici like three day',\n",
              " 'sure get acknowledg astoundingli tactless gener faggi demand blood oath fo',\n",
              " 'ok everi night take warm bath drink cup milk see work magic still need loos weight know',\n",
              " 'look fri pan case cheap book perhap silli fri pan like book',\n",
              " 'well uv caus mutat sunscreen like essenti theseday',\n",
              " 'lunch onlin',\n",
              " 'know friend alreadi told',\n",
              " 'hi princess thank pic pretti',\n",
              " 'aiyo u alway c ex one dunno abt mei repli first time u repli fast lucki workin huh got bao ur sugardad ah gee',\n",
              " 'hi msg offic',\n",
              " 'thanx e browni v nice',\n",
              " 'geeeee love much bare stand',\n",
              " 'gent tri contact last weekend draw show prize guarante call claim code k valid hr ppm',\n",
              " 'fuck babe miss alreadi know let send money toward net need want crave',\n",
              " 'ill call u mrw ninish address icki american freek wont stop callin bad jen k eh',\n",
              " 'oooh bed ridden ey think',\n",
              " 'anyway go gym whatev love smile hope ok good day babe miss much alreadi',\n",
              " 'love daddi make scream pleasur go slap ass dick',\n",
              " 'wot u wanna missi',\n",
              " 'yar lor wait mum finish sch lunch lor whole morn stay home clean room room quit clean hee',\n",
              " 'know lab goggl went',\n",
              " 'open door',\n",
              " 'wait call',\n",
              " 'nope wait sch daddi',\n",
              " 'cash prize claim call',\n",
              " 'tire argu week week want',\n",
              " 'wait sch finish ard',\n",
              " 'mobil number claim call us back ring claim hot line',\n",
              " 'arngd marriag u r walkin unfortuntli snake bite u bt love marriag danc frnt snake amp sayin bite bite',\n",
              " 'huh earli dinner outsid izzit',\n",
              " 'ok anyway need chang said',\n",
              " 'tri contact repli offer min textand new video phone call repli free deliveri tomorrow',\n",
              " 'ex wife abl kid want kid one day',\n",
              " 'scotland hope show jjc tendenc take care live dream',\n",
              " 'tell u headach want use hour sick time',\n",
              " 'dun thk quit yet hmmm go jazz yogasana oso go meet em lesson den',\n",
              " 'pete pleas ring meiv hardli gotani credit',\n",
              " 'ya srsli better yi tho',\n",
              " 'meet call later',\n",
              " 'ur chanc win wkli shop spree txt shop c www txt shop com custcar x p wk',\n",
              " 'special select receiv pound award call line close cost ppm cs appli ag promo',\n",
              " 'privat account statement show un redeem point call identifi code expir',\n",
              " 'still grand prix',\n",
              " 'met stranger choos friend long world stand friendship never end let friend forev gud nitz',\n",
              " 'great',\n",
              " 'gud mrng dear nice day',\n",
              " 'import custom servic announc call freephon',\n",
              " 'exhaust train morn much wine pie sleep well',\n",
              " 'go buy mum present ar',\n",
              " 'mind blastin tsunami occur rajnik stop swim indian ocean',\n",
              " 'u send home first ok lor readi yet',\n",
              " 'speak cash yet',\n",
              " 'happi come noon',\n",
              " 'meet lunch la',\n",
              " 'take care n get well soon',\n",
              " 'xclusiv clubsaisai morow soire special zouk nichol pari free rose ladi info',\n",
              " 'meant say cant wait see u get bore bridgwat banter',\n",
              " 'neva mind ok',\n",
              " 'fine imma get drink somethin want come find',\n",
              " 'day kick euro u kept date latest news result daili remov send get txt stop',\n",
              " 'valentin game send di msg ur friend answer r someon realli love u que colour suit best rpli',\n",
              " 'mani depend',\n",
              " 'thanx today cer nice catch ave find time often oh well take care c u soon c',\n",
              " 'call said choos futur',\n",
              " 'happi valentin day know earli hundr handsom beauti wish thought finish aunti uncl st ham like v shock leh co tell shuhui like tell leona also like dat almost know liao got ask abt ur reaction lor ham famili happi ham come n pick come immedi aft ur lesson ham let snow let snow kind weather bring ppl togeth friendship grow ham dear got lt gt dollar hi hi ham good word word may leav u dismay mani time ham make sure alex know birthday fifteen minut far concern ham sorri got thing may pub later ham nah straight bring bud drink someth actual littl use straight cash ham haha good hear offici paid market th ham mani lick take get center tootsi pop ham yup thk r e teacher said make face look longer darren ask cut short spam new textbuddi chat horni guy ur area p free receiv search postcod gaytextbuddi com txt one name spam today vodafon number end select receiv award number match call receiv award ham pleas dont say like hi hi hi ham thank u ham oh forward messag thought send ham got seventeen pound seven hundr ml hope ok spam dear voucher holder claim week offer pc go http www e tlp co uk expressoff ts cs appli stop text txt stop ham n funni ham sweetheart hope kind day one load reason smile biola ham login dat time dad fetch home ham shower babi ham askd u question hour answer ham well imma definit need restock thanksgiv let know ham said kiss kiss sound effect gorgeou man kind person need smile brighten day ham probabl gonna swing wee bit ham ya nice readi thursday ham allo brave buse taken train triumph mean b ham jolli good rest week ham watch cartoon listen music amp eve go templ amp church u ham mind ask happen dont say uncomfort spam privat account statement show un redeem point call identifi code expir ham prob send email spam cash prize claim call c rstm sw ss ppm ham that cool sometim slow gentl sonetim rough hard ham gonna say sorri would normal start panic time sorri see tuesday ham wait know wesley town bet hella drug ham fine miss much ham u got person stori ham tell drug dealer get impati ham sun cant come earth send luv ray cloud cant come river send luv rain cant come meet u send care msg u gud evng ham place man ham doesnt make sens take unless free need know wikipedia com spam premium phone servic call ham sea lay rock rock envelop envelop paper paper word ham mum repent ham sorri go home first daddi come fetch later ham leav de start prepar next ham ye babi studi posit kama sutra ham en chikku nang bakra msg kalstiya tea coffe ham carlo minut still need buy ham pay lt decim gt lakh ham good even ttyl ham u receiv msg ham ho ho big belli laugh see ya tomo spam sm ac sun post hello seem cool want say hi hi stop send stop spam get ur st rington free repli msg tone gr top tone phone everi week per wk opt send stop ham ditto worri say anyth anymor like said last night whatev want peac ham got lt gt way could pick ham dont knw pa drink milk ham mayb say hi find got card great escap wetherspoon ham piggi r u awak bet u still sleep go lunch ham caus freaki lol ham miss call caus yell scrappi miss u wait u come home lone today ham hex place talk explain ham log wat sdryb ham xy go e lunch spam hi sue year old work lapdanc love sex text live bedroom text sue textoper g da ppmsg ham want ask wait finish lect co lect finish hour anyway ham finish work yet ham everi king cri babi everi great build map imprtant u r today u wil reach tomorw gud ni ham dear cherthala case u r come cochin pl call bfore u start shall also reach accordingli tell day u r come tmorow engag an holiday ham thank love torch bold spam forward pleas call immedi urgent messag wait ham farm open ham sorri troubl u buy dad big small sat n sun thanx ham sister law hope great month say hey abiola ham purchas stuff today mail po box number ham ah poop look like ill prob send laptop get fix cuz gpu problem ham good good job like entrepreneur ham aight close still around alex place ham meet corpor st outsid gap see mind work ham mum ask buy food home ham k u also dont msg repli msg ham much r will pay ham sorri call later ham import prevent dehydr give enough fluid ham that bit weird even suppos happen good idea sure pub ham true dear sat pray even felt sm time ham think get away trek long famili town sorri ham wanna gym harri ham quit late lar ard anyway wun b drivin spam review keep fantast nokia n gage game deck club nokia go www cnupdat com newslett unsubscrib alert repli word spam mth half price orang line rental latest camera phone free phone mth call mobilesdirect free updat stoptxt cs ham height confid aeronaut professor wer calld amp wer askd sit aeroplan aftr sat wer told dat plane ws made student dey hurri plane bt didnt move said made student wont even start datz confid ham seem like weird time night g want come smoke day shitstorm attribut alway come make everyon smoke spam pm cost p ham save stress person dorm account send account detail money sent ham also know lunch menu da know ham stuff sell tell spam urgent nd attempt contact u u call b csbcm wc n xx callcost ppm mobilesvari max ham book lesson msg call work sth go get spec membership px spam guarante cash prize claim yr prize call custom servic repres pm ham macha dont feel upset assum mindset believ one even wonder plan us let life begin call anytim ham oh send address ham fine anytim best ham wondar full flim ham ya even cooki jelli ham world run still mayb feel admit mad correct let call life keep run world may u r also run let run ham got look scrumptiou daddi want eat night long ham co lar ba dao ok pm lor u never ask go ah said u would ask fri said u ask today ham alright omw gotta chang order half th ham exactli anyway far jide studi visit ham dunno u ask spam email alertfrom jeri stewarts kbsubject low cost prescripiton drvgsto listen email call ham spring come earli yay ham lol feel bad use money take steak dinner ham even u dont get troubl convinc tel twice tel neglect msg dont c read dont repli ham leav qatar tonit search opportun went fast pl add ur prayer dear rakhesh ham one talk ham thank look realli appreci spam hi custom loyalti offer new nokia mobil txtauction txt word start get ctxt tc p mtmsg ham wish ham haha mayb u rite u know well da feel like someon gd lor u faster go find one gal group attach liao ham ye glad made ham well littl time thing good time ahead ham got room soon put clock back til shout everyon get realis wahay anoth hour bed ham ok may free gym ham men like shorter ladi gaze eye ham dunno ju say go lido time ham promis take good care princess run pleas send pic get chanc ttyl spam u subscrib best mobil content servic uk per day send stop helplin ham reason spoken year anyway great week best exam ham monday next week give full gist spam realiz year thousand old ladi run around tattoo spam import custom servic announc premier ham dont gimm lip caveboy ham get librari ham reali sorri recognis number confus r u pleas ham didnt holla ham cant think anyon spare room top head ham faith make thing possibl hope make thing work love make thing beauti may three christma merri christma ham u made appoint ham call carlo phone vibrat act might hear text spam romant pari night flight book next year call ts cs appli ham grandma oh dear u still ill felt shit morn think hungov anoth night leav sat spam urgent ur guarante award still unclaim call closingd claimcod pmmorefrommobil bremov mobypobox ls yf ham noth ju tot u would ask co u ba gua went mt faber yest yest ju went alreadi mah today go ju call lor ham wish famili merri x ma happi new year advanc spam ur award citi break could win summer shop spree everi wk txt store skilgm tsc winawk age perwksub ham nt goin got somethin unless meetin dinner lor haha wonder go ti time ham sorri call later ham cant pick phone right pl send messag ham lol know dramat school alreadi close tomorrow appar drive inch snow suppos get ham get anywher damn job hunt ham lol u drunkard hair moment yeah still tonight wat plan ham idc get weasel way shit twice row ham wil lt gt minut got space ham sleep surf ham thank pick trash ham go tell friend sure want live smoke much spend hour beg come smoke ham hi kate love see tonight ill phone tomorrow got sing guy gave card xxx',\n",
              " 'happi new year dear brother realli miss got number decid send text wish happi abiola',\n",
              " 'mean get door',\n",
              " 'opinion jada kusruthi lovabl silent spl charact matur stylish simpl pl repli',\n",
              " 'hmmm thought said hour slave late punish',\n",
              " 'beerag',\n",
              " 'import custom servic announc premier call freephon',\n",
              " 'dont think turn like randomlli within min open',\n",
              " 'suppos make still town though',\n",
              " 'time fix spell sometim get complet diff word go figur',\n",
              " 'ever thought live good life perfect partner txt back name age join mobil commun p sm',\n",
              " 'free top polyphon tone call nation rate get toppoli tune sent everi week text subpoli per pole unsub',\n",
              " 'gud mrng dear hav nice day',\n",
              " 'hope enjoy game yesterday sorri touch pl know fondli bein thot great week abiola',\n",
              " 'e best ur drive tmr',\n",
              " 'u dogbreath sound like jan c al',\n",
              " 'omg want scream weigh lost weight woohoo',\n",
              " 'gener one uncount noun u dictionari piec research',\n",
              " 'realli get hang around',\n",
              " 'orang custom may claim free camera phone upgrad loyalti call offer end thmarch c appli opt availa',\n",
              " 'petey boy wherear friendsar thekingshead come canlov nic',\n",
              " 'ok msg u b leav hous',\n",
              " 'gimm lt gt minut ago spam last chanc claim ur worth discount voucher today text shop savamob offer mobil cs savamob pobox uz sub ham appt lt time gt fault u listen told u twice spam free st week nokia tone ur mobil everi week txt nokia get txting tell ur mate www getz co uk pobox w wq norm p tone spam guarante award even cashto claim ur award call free stop getstop php rg jx ham k ham dled imp ham sure make sure know smokin yet ham boooo alway work quit ham take half day leav bec well ham ugh wanna get bed warm ham nervou lt gt ham ring come guy costum gift futur yowif hint hint spam congratul ur award either cd gift voucher free entri weekli draw txt music tnc www ldew com win ppmx age ham borrow ur bag ok spam u outbid simonwatson shinco dvd plyr bid visit sm ac smsreward end bid notif repli end ham boytoy miss happen ham lot use one babe model help youi bring match ham also bring galileo dobbi ham respond ham boo babe u enjoyin yourjob u seem b gettin well hunni hope ure ok take care llspeak u soonlot lovem xxxx',\n",
              " 'good afternoon starshin boytoy crave yet ach fuck sip cappuccino miss babe teas kiss',\n",
              " 'road cant txt',\n",
              " 'smsservic yourinclus text credit pl goto www comuk net login qxj unsubscrib stop extra charg help comuk cm ae',\n",
              " 'p alfi moon children need song ur mob tell ur txt tone chariti nokia poli chariti poli zed profit chariti',\n",
              " 'good even ttyl',\n",
              " 'hmm bit piec lol sigh',\n",
              " 'hahaha use brain dear',\n",
              " 'hey got mail',\n",
              " 'sorri light turn green meant anoth friend want lt gt worth may around',\n",
              " 'thank yesterday sir wonder hope enjoy burial mojibiola',\n",
              " 'u secret admir reveal think u r special call opt repli reveal stop per msg recd cust care',\n",
              " 'hi mate rv u hav nice hol messag say hello coz sent u age start drive stay road rvx',\n",
              " 'dear voucher holder claim week offer pc pleas go http www e tlp co uk expressoff ts cs appli stop text txt stop',\n",
              " 'thank much skype wit kz sura didnt get pleasur compani hope good given ultimatum oh countin aburo enjoy messag sent day ago',\n",
              " 'sure result offer',\n",
              " 'good morn dear great amp success day',\n",
              " 'want anytim network min text new video phone five pound per week call repli deliveri tomorrow',\n",
              " 'sir late pay rent past month pay lt gt charg felt would inconsider nag someth give great cost didnt speak howev recess wont abl pay charg month henc askin well ahead month end pleas help thank',\n",
              " 'tri contact offer new video phone anytim network min half price rental camcord call repli deliveri wed',\n",
              " 'last chanc claim ur worth discount voucher text ye savamob member offer mobil cs sub remov txt x stop',\n",
              " 'luv u soo much u understand special u r ring u morrow luv u xxx',\n",
              " 'pl send comprehens mail pay much',\n",
              " 'prashanthettan mother pass away last night pray famili',\n",
              " 'urgent call landlin complimentari ibiza holiday cash await collect sae cs po box sk wp ppm',\n",
              " 'k k go',\n",
              " 'meanwhil shit suit xavier decid give us lt gt second warn samantha come play jay guitar impress shit also think doug realiz live anymor',\n",
              " 'stomach thru much trauma swear eat better lose weight',\n",
              " 'offic what matter msg call break',\n",
              " 'yeah bare enough room two us x mani fuck shoe sorri man see later',\n",
              " 'today offer claim ur worth discount voucher text ye savamob member offer mobil cs sub unsub repli x',\n",
              " 'u reach orchard alreadi u wan go buy ticket first',\n",
              " 'real babi want bring inner tigress',\n",
              " 'da run activ full version da',\n",
              " 'ah poor babi hope urfeel bettersn luv probthat overdos work hey go care spk u sn lot lovejen xxx',\n",
              " 'stop stori told return say order',\n",
              " 'talk sexi make new friend fall love world discreet text date servic text vip see could meet',\n",
              " 'go take babe',\n",
              " 'hai ana tomarrow come morn lt decim gt ill sathi go rto offic repli came home',\n",
              " 'spoon okay',\n",
              " 'say somebodi name tampa',\n",
              " 'work go min',\n",
              " 'brother geniu',\n",
              " 'sorri guess whenev get hold connect mayb hour two text',\n",
              " 'u find time bu coz need sort stuff',\n",
              " 'dude ive see lotta corvett late',\n",
              " 'congratul ur award either yr suppli cd virgin record mysteri gift guarante call ts cs www smsco net pm approx min',\n",
              " 'consid wall bunker shit import never play peac guess place high enough matter',\n",
              " 'privat account statement xxxxxx show un redeem point call identifi code expir',\n",
              " 'hello need posh bird chap user trial prod champney put need address dob asap ta r',\n",
              " 'u want xma free text messag new video phone half price line rental call free find',\n",
              " 'well offici philosoph hole u wanna call home readi save',\n",
              " 'go good problem still need littl experi understand american custom voic',\n",
              " 'text drop x',\n",
              " 'ugh long day exhaust want cuddl take nap',\n",
              " 'talk atleast day otherwis miss best friend world shakespear shesil lt gt',\n",
              " 'shop till u drop either k k cash travel voucher call ntt po box cr bt fixedlin cost ppm mobil vari',\n",
              " 'castor need see someth',\n",
              " 'sunshin quiz wkli q win top soni dvd player u know countri liverpool play mid week txt ansr sp tyron',\n",
              " 'u secret admir look make contact u find r reveal think ur special call',\n",
              " 'u secret admir look make contact u find r reveal think ur special call stopsm',\n",
              " 'remind download content alreadi paid goto http doit mymobi tv collect content',\n",
              " 'see knew give break time woul lead alway want miss curfew gonna gibe til one midnight movi gonna get til need come home need getsleep anyth need b studdi ear train',\n",
              " 'love give massag use lot babi oil fave posit',\n",
              " 'dude go sup',\n",
              " 'yoyyooo u know chang permiss drive mac usb flash drive',\n",
              " 'gibb unsold mike hussey',\n",
              " 'like talk pa abl dont know',\n",
              " 'dun cut short leh u dun like ah fail quit sad',\n",
              " 'unbeliev faglord',\n",
              " 'wife knew time murder exactli',\n",
              " 'ask princess',\n",
              " 'great princess think',\n",
              " 'nutter cutter ctter cttergg cttargg ctargg ctagg ie',\n",
              " 'ok noe u busi realli bore msg u oso dunno wat colour choos one',\n",
              " 'g class earli tomorrow thu tri smoke lt gt',\n",
              " 'superb thought grate u dont everyth u want mean u still opportun happier tomorrow u today',\n",
              " 'hope good week check',\n",
              " 'use hope agent drop sinc book thing year whole boston nyc experi',\n",
              " 'thursday night yeah sure thing work',\n",
              " 'free rington wait collect simpli text password mix verifi get usher britney fml po box mk h ppw',\n",
              " 'probabl money worri thing come due sever outstand invoic work two three month ago',\n",
              " 'possibl teach',\n",
              " 'wonder phone batteri went dead tell love babe',\n",
              " 'love smell bu tobacco',\n",
              " 'get worri derek taylor alreadi assum worst',\n",
              " 'hey charl sorri late repli',\n",
              " 'lastest stereophon marley dizze racal libertin stroke win nookii game flirt click themob wap bookmark text wap',\n",
              " 'give plu said grinul greet whenev speak',\n",
              " 'white fudg oreo store',\n",
              " 'januari male sale hot gay chat cheaper call nation rate p min cheap p min peak stop text call p min',\n",
              " 'love come took long leav zaher got word ym happi see sad left miss',\n",
              " 'sorri hurt',\n",
              " 'feel nauseou piss eat sweet week caus today plan pig diet week hungri',\n",
              " 'ok lor earli still project meet',\n",
              " 'call da wait call',\n",
              " 'could ask carlo could get anybodi els chip',\n",
              " 'actual send remind today wonder weekend',\n",
              " 'peopl see msg think iam addict msging wrong bcoz know iam addict sweet friend bslvyl',\n",
              " 'hey gave photo regist drive ah tmr wanna meet yck',\n",
              " 'dont talk ever ok word',\n",
              " 'u wana see',\n",
              " 'way school pl send ashley number',\n",
              " 'shall fine avalarr hollalat',\n",
              " 'went attend anoth two round today still reach home',\n",
              " 'actual delet old websit blog magicalsong blogspot com',\n",
              " 'k wait chikku il send aftr lt gt min',\n",
              " 'diet ate mani slice pizza yesterday ugh alway diet',\n",
              " 'k give kvb acc detail',\n",
              " 'oh come ah',\n",
              " 'money r lucki winner claim prize text money million give away ppt x normal text rate box w jy',\n",
              " 'realli sorri b abl friday hope u find altern hope yr term go ok',\n",
              " 'congratul ore mo owo wa enjoy wish mani happi moment fro wherev go',\n",
              " 'samu shoulder yet',\n",
              " 'time think need know near campu',\n",
              " 'dear matthew pleas call landlin complimentari lux tenerif holiday cash await collect ppm sae cs box sk xh',\n",
              " 'dun wear jean lor',\n",
              " 'sinc side fever vomitin',\n",
              " 'k k colleg',\n",
              " 'urgent call landlin complimentari tenerif holiday cash await collect sae cs box hp yf ppm',\n",
              " 'better made friday stuf like pig yesterday feel bleh least writh pain kind bleh',\n",
              " 'sell ton coin sell coin someon thru paypal voila money back life pocket',\n",
              " 'theyr lot place hospit medic place safe',\n",
              " 'get touch folk wait compani txt back name age opt enjoy commun p sm',\n",
              " 'also sorta blown coupl time recent id rather text blue look weed',\n",
              " 'sent score sopha secondari applic school think think appli research cost also contact joke ogunrind school one less expens one',\n",
              " 'cant wait see photo use',\n",
              " 'ur cash balanc current pound maxim ur cash send go p msg cc po box tcr w',\n",
              " 'hey book kb sat alreadi lesson go ah keep sat night free need meet confirm lodg',\n",
              " 'chk ur belovd ms dict',\n",
              " 'time want come',\n",
              " 'awesom lemm know whenev around',\n",
              " 'shb b ok lor thanx',\n",
              " 'beauti truth graviti read care heart feel light someon feel heavi someon leav good night',\n",
              " 'also rememb get dobbi bowl car',\n",
              " 'filthi stori girl wait',\n",
              " 'sorri c ur msg yar lor poor thing one night tmr u brand new room sleep',\n",
              " 'love decis feel could decid love life would much simpler less magic',\n",
              " 'welp appar retir',\n",
              " 'sort code acc bank natwest repli confirm sent right person',\n",
              " '',\n",
              " 'u sure u take sick time',\n",
              " 'urgent tri contact u today draw show prize guarante call land line claim valid hr',\n",
              " 'watch cartoon listen music amp eve go templ amp church u',\n",
              " 'yo chad gymnast class wanna take site say christian class full',\n",
              " 'much buzi',\n",
              " 'better still catch let ask sell lt gt',\n",
              " 'sure night menu know noon menu',\n",
              " 'u want come back beauti necklac token heart that give wife like see one give dont call wait till come',\n",
              " 'will go aptitud class',\n",
              " 'wont b tri sort hous ok',\n",
              " 'yar lor wan go c hors race today mah eat earlier lor ate chicken rice u',\n",
              " 'haha awesom omw back',\n",
              " 'yup thk e shop close lor',\n",
              " 'account number',\n",
              " 'eh u send wrongli lar',\n",
              " 'hey ad crap nite borin without ya boggi u bore biatch thanx u wait til nxt time il ave ya',\n",
              " 'ok shall talk',\n",
              " 'dont hesit know second time weak like keep notebook eat day anyth chang day sure noth',\n",
              " 'hey pay salari de lt gt',\n",
              " 'anoth month need chocol weed alcohol',\n",
              " 'start search get job day great potenti talent',\n",
              " 'reckon need town eightish walk carpark',\n",
              " 'congrat mobil g videophon r call videochat wid mate play java game dload polyph music nolin rentl',\n",
              " 'look fuckin time fuck think',\n",
              " 'yo guess drop',\n",
              " 'carlo say mu lt gt minut',\n",
              " 'offic call lt gt min',\n",
              " 'geeee miss alreadi know think fuck wait till next year togeth love kiss',\n",
              " 'yun ah ubi one say wan call tomorrow call look iren ere got bu ubi cre ubi tech park ph st wkg day n',\n",
              " 'ugh gotta drive back sd la butt sore',\n",
              " 'th juli',\n",
              " 'hi im relax time ever get everi day parti good night get home tomorrow ish',\n",
              " 'wan come come lor din c stripe skirt',\n",
              " 'xma stori peac xma msg love xma miracl jesu hav bless month ahead amp wish u merri xma',\n",
              " 'number',\n",
              " 'chang e one next escal',\n",
              " 'yetund class run water make ok pl',\n",
              " 'lot happen feel quiet beth aunt charli work lot helen mo',\n",
              " 'wait bu stop aft ur lect lar dun c go get car come back n pick',\n",
              " 'aight thank comin',\n",
              " 'heard abt tat',\n",
              " 'pleas call custom servic repres freephon pm guarante cash prize',\n",
              " 'ye realli great bhaji told kalli best cricket sachin world tough get',\n",
              " 'lt gt think say syllabu',\n",
              " 'umma say anyth',\n",
              " 'give sec think think',\n",
              " 'panason bluetoothhdset free nokia free motorola free doublemin doubletxt orang contract call mobileupd call optout',\n",
              " 'quit know still get hold anyon cud pick bout pm see pub',\n",
              " 'poyyarikatur kolathupalayam unjalur post erod di lt gt',\n",
              " 'dear hero leav qatar tonit apt opportun pl keep touch lt email gt kerala',\n",
              " 'lol would mom would fit tell whole famili crazi terribl',\n",
              " 'got home babe still awak',\n",
              " 'dunno close oredi v fan',\n",
              " 'buy pizza meat lover suprem u get pick',\n",
              " 'ya told ask wat matter',\n",
              " 'dear regret cudnt pick call drove frm ctla cochin home left mobil car ent style ishtamayoo happi bakrid',\n",
              " 'free st week nokia tone ur mob everi week txt nokia get txting tell ur mate www getz co uk pobox w wq norm p tone',\n",
              " 'shall send exe mail id',\n",
              " 'nope watch tv home go v bore',\n",
              " 'know wait check',\n",
              " 'good afternoon gloriou anniversari day sweet j hope find happi content prey think send teas kiss across sea coax imag fond souveni cougar pen',\n",
              " 'guess somebodi know secretli fanci wanna find give us call landlin datebox essexcm xn p min',\n",
              " 'still tonight',\n",
              " 'may call later pl',\n",
              " 'pattern recent crap weekend',\n",
              " 'sore throat scratch talk',\n",
              " 'ye da plm ur offic',\n",
              " 'around still asleep v',\n",
              " 'lol forgot eh ye bring babe',\n",
              " 'good find way',\n",
              " 'use foreign stamp countri good lectur',\n",
              " 'yup bath liao',\n",
              " 'happi new year man',\n",
              " 'oh mr sheffield wanna play game okay boss nanni give rais give one',\n",
              " 'zoe hit im fuck shitin il defo tri hardest cum morow luv u million lekdog',\n",
              " 'hello babi get back mom set comput fill belli goe loverboy miss alreadi sigh',\n",
              " 'blanket suffici thx',\n",
              " 'naughti littl thought better flirt flirt n flirt rather love someon n gettin hurt hurt n hurt gud nyt',\n",
              " 'edison rightli said fool ask question wise man answer know us speechless viva gm gn ge gnt',\n",
              " 'talk that de wont',\n",
              " 'today go colleg abl atten class',\n",
              " 'class holla later',\n",
              " 'easi ah sen got select mean good',\n",
              " 'mmm that better got roast b better drink good indian',\n",
              " 'know someon know fanci call find pobox ls hb p',\n",
              " 'come round',\n",
              " 'thing chang sentenc want concentr educ career im leav',\n",
              " 'flirt txt girl bloke ur name age eg girl zoe join get chat',\n",
              " 'walk hour c u show care wont u believ im seriou',\n",
              " 'day euro kickoff u kept inform latest news result daili unsubscrib send get euro stop',\n",
              " 'avail soire june rd',\n",
              " 'u noe wat time e place dat sell close',\n",
              " 'got anoth job one hospit data analysi someth start monday sure thesi got finish',\n",
              " 'jay get realli impati belliger',\n",
              " 'hiya comin bristol st week april le got rudi new yr eve snore drunk u bak colleg yet work send ink bath',\n",
              " 'work pleas call',\n",
              " 'u drive lor',\n",
              " 'ard like dat',\n",
              " 'tell femal v throw decid get',\n",
              " 'eastend tv quiz flower dot compar violet e tulip f lili txt e f chanc win cash wkent p',\n",
              " 'work technic support voic process network field',\n",
              " 'might come kerala day prepar take leav finalis dont plan travel visit need finish urgent work',\n",
              " 'ok sure time tho sure get librari class tri see point good eve',\n",
              " 'new local date area lot new peopl regist area repli date start www flirtparti us repli',\n",
              " 'fine bitch later',\n",
              " 'mum went dentist',\n",
              " 'free call sir wait',\n",
              " 'meet u work tel shall work tomorrow',\n",
              " 'someon u know ask date servic contact cant guess call reveal po box wu',\n",
              " 'ju finish bath',\n",
              " 'alright make sure car back tonight',\n",
              " 'urgent tri contact u today draw show prize guarante call land line claim c valid hr',\n",
              " 'dear u invit xchat final attempt contact u txt chat',\n",
              " 'lul im gettin juici gossip hospit two nurs talk fat gettin one think she obes oyea',\n",
              " 'aight ill get fb coupl minut',\n",
              " 'oi ami parchi na kicchu kaaj kort iccha korch na phone ta tul na plz plz',\n",
              " 'download clear movi dvd copi',\n",
              " 'yep pretti sculptur',\n",
              " 'convey regard',\n",
              " 'watch surya movi pm vijay movi pokkiri',\n",
              " 'tell happen dont behav like ok need say',\n",
              " 'u get pic msg phone',\n",
              " 'send someon els',\n",
              " 'wat make peopl dearer de happi dat u feel u meet de pain u feel u miss dem',\n",
              " 'love start attract feel need everi time around first thing come thought would start day end everi time dream love everi breath name life happen around life name would cri give happi take sorrow readi fight anyon love craziest thing love proov anyon girl beauti ladi whole planet alway sing prais love start make chicken curri end maki sambar life beauti get everi morn thank god day would like say lot tell later',\n",
              " 'fr ndship like needl clock though v r clock v r nt abl met evn v meet itz second bt v alwi stay conect gud',\n",
              " 'think spatula hand',\n",
              " 'never noth',\n",
              " 'award sipix digit camera call landlin deliveri within day cs box bp yr warranti ppm p p',\n",
              " 'goodmorn today late lt decim gt min',\n",
              " 'win urgent mobil number award prize guarante call land line claim valid hr ppm',\n",
              " 'pleas da call mistak side sorri da pl da goto doctor',\n",
              " 'r meet',\n",
              " 'well weather cali great complex great need car move freeli tax outrag great place sad part miss home',\n",
              " 'reach home tire come tomorro',\n",
              " 'ryder unsold gibb',\n",
              " 'dear subscrib ur draw gift voucher b enter receipt correct an elvi presley birthday txt answer',\n",
              " 'fret buy ovul test strip send wont get til like march send postal address u alright okay',\n",
              " 'gift tri get throw cliff someth',\n",
              " 'ne thing interest good birthday u wrking nxt start uni today',\n",
              " 'busi come point figur tomorrow',\n",
              " 'yeah go bore depress sittin waitin phone ring hope wind drop though scari',\n",
              " 'black shirt n blue jean thk c',\n",
              " 'aiyah sorri lor watch tv watch forgot check phone',\n",
              " 'messag import inform user today lucki day find log onto http www urawinn com fantast surpris await',\n",
              " 'hen night go swing',\n",
              " 'good afternoon love goe day woke earli onlin wait hmmm italian boy onlin see grin',\n",
              " 'someon smoke everi time smoke last two week call text want smoke',\n",
              " 'get headach tri figur u trust math promis',\n",
              " 'first time dhoni rock',\n",
              " 'ok ill tell compani',\n",
              " 'awesom think get th usf time tonight',\n",
              " 'mean still think teju',\n",
              " 'good movi ok leav hourish',\n",
              " 'kalli home ground amla home town durban',\n",
              " 'let make saturday monday per conveni',\n",
              " 'hey time drive fri go evalu fri',\n",
              " 'price claim call',\n",
              " 'go lunch wif famili aft dat go str orchard lor',\n",
              " 'bore speed date tri speedchat txt speedchat like em txt swap get new chatter chat pobox w wq p msg rcd',\n",
              " 'cancel cheyyamo get money back',\n",
              " 'want anytim network min text new video phone five pound per week call repli deliveri tomorrow',\n",
              " 'ok ok ok what ur today plan',\n",
              " 'good morn princess',\n",
              " 'aiyar sorri lor forgot tell u',\n",
              " 'take part mobil survey yesterday text use howev wish get txt send txt c www txt com p',\n",
              " 'tonight mate catch sleep new number way',\n",
              " 'height oh shit situat guy throw luv letter gal fall brother head who gay',\n",
              " 'ur hmv quiz cash balanc current maxim ur cash send hmv p msg',\n",
              " 'check error difficulti correct',\n",
              " 'howz pain hope u r fine',\n",
              " 'sorri call later',\n",
              " 'good morn princess',\n",
              " 'enter cabin pa said happi b day boss felt special askd lunch lunch invit apart went',\n",
              " 'u wake alreadi thanx e tau sar piah quit nice',\n",
              " 'k need login anyth',\n",
              " 'dont forget place mani free request stchoic co uk wish inform call',\n",
              " 'lol busi',\n",
              " 'u wear',\n",
              " 'messag text miss sender name miss number miss sent date miss miss u lot that everyth miss sent via fullonsm com',\n",
              " 'oh usual vijay film differ',\n",
              " 'know u u know send chat let find p msg rcvd hg suit land row w j hl ldn year',\n",
              " 'good day mine realli busi much tomorrow night',\n",
              " 'way send shade stuff wonder',\n",
              " 'realli tot ur paper end long ago wat u copi ju got use u happi lar still haf studi',\n",
              " 'thank winner notifi sm good luck futur market repli stop custom servic',\n",
              " 'babe lost',\n",
              " 'ok help ask work tmr',\n",
              " 'drive rain get caught e mrt station lor',\n",
              " 'drop tank',\n",
              " 'said text one time',\n",
              " 'sorri call later',\n",
              " 'ok go chang also',\n",
              " 'girl mani local u r virgin r readi fil ur everi sexual need u fil text cute p',\n",
              " 'u find sitter kaitlyn sick slept day yesterday',\n",
              " 'sorri man accident left phone silent last night check til got',\n",
              " 'hey someth came last min think wun sign tmr hee',\n",
              " 'adult would learn experi real danger dont like peep use drug dont need comment',\n",
              " 'hey veggi pizza',\n",
              " 'yun buy school got offer plu',\n",
              " 'sure neighbor didnt pick',\n",
              " 'k sent',\n",
              " 'free entri wkli comp win fa cup final tkt st may text fa receiv entri question std txt rate c appli',\n",
              " 'new theori argument win situat lose person dont argu ur friend kick amp say alway correct',\n",
              " 'well im computerless time make oreo truffl',\n",
              " 'haha yeah see sec',\n",
              " 'number sir',\n",
              " 'lol hot air balloon',\n",
              " 'ok bu come soon come otherwis tomorrow',\n",
              " 'msg r time pass silent say think u right also make u think least moment gd nt swt drm shesil',\n",
              " 'yeah probabl swing roommat finish girl',\n",
              " 'got take take part wrc ralli oz u lucozad energi text ralli le p see pack lucozad co uk wrc itcould u',\n",
              " 'happi new year melodi',\n",
              " 'dun need pick ur gf',\n",
              " 'yay better told girl either',\n",
              " 'horribl u eat mac eat u forgot abt alreadi rite u take long repli thk toot b b prepar wat shall eat',\n",
              " 'say fantast chanc anyth need bigger life lift lose live think would first person die n v q',\n",
              " 'nw came hme da',\n",
              " 'outsid island head toward hard rock run',\n",
              " 'day class class',\n",
              " 'chennai velacheri',\n",
              " 'flippin shit yet',\n",
              " 'k give sec break lt gt cstore',\n",
              " 'much bad avoid like',\n",
              " 'yo around got car back',\n",
              " 'annoy',\n",
              " 'goodmorn today late lt gt min',\n",
              " 'point hangin mr right makin u happi',\n",
              " 'come aliv better correct good look figur',\n",
              " 'case guess see campu lodg',\n",
              " 'done',\n",
              " 'come home one last time wont anyth trust',\n",
              " 'night worri appt shame miss girl night quizz popcorn hair',\n",
              " 'sex ur mobil free sexi pic jordan text babe everi wk get sexi celeb pocketbab co uk pic wk',\n",
              " 'ok c ya',\n",
              " 'new voicemail pleas call',\n",
              " 'said matter mind say matter',\n",
              " 'also know lunch menu da know',\n",
              " 'al moan n e thin goe wrong fault al de argument r fault fed himso bother hav go thanx xx',\n",
              " 'neft transact refer number lt gt rs lt decim gt credit beneficiari account lt gt lt time gt lt gt',\n",
              " 'otherwis part time job na tuition',\n",
              " 'know call',\n",
              " 'also da feel yesterday night wait til day night dear',\n",
              " 'thank understand tri tell sura',\n",
              " 'win year suppli cd store ur choic worth enter weekli draw txt music ts cs www ldew com sub win ppmx',\n",
              " 'whole car appreci last two dad map read semi argument apart thing go ok p',\n",
              " 'sim subscrib select receiv bonu get deliv door txt word ok claim p msg exp apr',\n",
              " 'need strong arm',\n",
              " 'also maaaan miss',\n",
              " 'bday real april',\n",
              " 'guessin gonna',\n",
              " 'ok come ur home half hour',\n",
              " 'yo game almost want go walmart soon',\n",
              " 'yeah probabl sure ilol let u know person wuldnt bother ur goin mite well',\n",
              " 'text creepi like think forgot',\n",
              " 'would good phone tomo lunchtim shall organis someth',\n",
              " 'new voicemail pleas call',\n",
              " 'damn make tonight want wait til tomorrow',\n",
              " 'k k also fine complet cours',\n",
              " 'true passabl get high score appli phd get year salari make life easier',\n",
              " 'nokia tone ur mob everi week txt nok st tone free get txtin tell ur friend p tone repli hl info',\n",
              " 'prakesh know',\n",
              " 'teach app da come colleg',\n",
              " 'rofl betta invest anti age product',\n",
              " 'winner u special select receiv cash holiday flight inc speak live oper claim',\n",
              " 'sir receiv account anoth hr time sorri delay',\n",
              " 'repli name address receiv post week complet free accommod variou global locat www phb com ph p',\n",
              " 'submit da project tmr rite',\n",
              " 'free entri weekli comp send word enter c www textcomp com cust care',\n",
              " 'ju an lar u noe later',\n",
              " 'want send someth sell fast lt gt k easi money',\n",
              " 'got thing may pub later',\n",
              " 'finish meet call',\n",
              " 'lol ok snatch purs',\n",
              " 'hello drivbi quit edrunk sorri iff pthi make senrd dnot dancc drum n basq ihav fun nhite x ro xxxxxxx',\n",
              " 'opinion jada kusruthi lovabl silent spl charact matur stylish simpl pl repli',\n",
              " 'much get',\n",
              " 'ur paper e morn aft tmr',\n",
              " 'dear reliev westonzoyland go plan end',\n",
              " 'hope great new semest wish best made great',\n",
              " 'oh ye speak txt u hmm u get email',\n",
              " 'want show world princess europ',\n",
              " 'nobodi decid eat dad want chines',\n",
              " 'shoot doc wait room',\n",
              " 'go dinner soon',\n",
              " 'hello site download song urgent pl',\n",
              " 'know u mean king havin credit goin bed night night sweet sleep',\n",
              " 'horribl gal sch stuff come u got mc',\n",
              " 'hi hun im comin nite tell everi im sorri hope u ava goodtim oli rang melnit ifink mite b sort il explain everythin mon l rs x',\n",
              " 'call later network urgnt sm',\n",
              " 'ummmmmaah mani mani happi return day dear sweet heart happi birthday dear',\n",
              " 'pleas call immedi urgent messag wait',\n",
              " 'yeah like goe like friend imma flip shit like half hour',\n",
              " 'mum say wan go go shun bian watch da glass exhibit',\n",
              " 'plan pongal',\n",
              " 'wait till end march el nino get oh',\n",
              " 'yet chikku go room nw bu',\n",
              " 'also cbe pay',\n",
              " 'honey boo miss u',\n",
              " 'sent jd custom servic cum account execut ur mail id detail contact us',\n",
              " 'yo parent gettin cash good news pick downstem',\n",
              " 'thank much skype wit kz sura didnt get pleasur compani hope good given ultimatum oh countin aburo enjoy',\n",
              " 'hungri gay guy feel hungri call p min stop text call p min',\n",
              " 'ok wahala rememb friend need',\n",
              " 'see half hour',\n",
              " 'im inperialmus listen weirdest track ever leafcutt john sound like insect molest someon plumb remix evil men acid',\n",
              " 'hey sorri didntgiv ya bellearli hunni bedbut mite go thepub l tr uwana mt load luv jenxxx',\n",
              " 'serious tell exact word right',\n",
              " 'u get phone wanna chat set meet call u cum moro luv jane xx call minmoremobsemspobox po wa',\n",
              " 'tee hee lectur cheeri bye bye',\n",
              " 'sorri chikku cell got problem tht nt abl repli u msg u',\n",
              " 'still havent collect dough pl let know go place sent get control number',\n",
              " 'ok',\n",
              " 'network oper servic free c visit biz',\n",
              " 'let know contact settl room let know ok',\n",
              " 'wot u u weirdo',\n",
              " 'lor',\n",
              " 'dont put phone silent mode ok',\n",
              " 'meet depend wan lor',\n",
              " 'wait tv show start lor u leh still busi ur report',\n",
              " 'oh ho first time u use type word',\n",
              " 'one stalk profil',\n",
              " 'ever green quot ever told jerri cartoon person irrit u alway one love u vri much fail express gud nyt',\n",
              " 'ye thought thank',\n",
              " 'drinkin ok',\n",
              " 'wonder other took',\n",
              " 'night end anoth day morn come special way may smile like sunni ray leav worri blue blue bay gud mrng',\n",
              " 'dog must alway wait till end day word run time cell alreadi',\n",
              " 'happi new year u',\n",
              " 'hey great deal farm tour pm pax deposit may',\n",
              " 'eat jap done oso aft ur lect wat got lect rite',\n",
              " 'hey babe saw came onlin second disappear happen',\n",
              " 'da birthdat certif april real date today dont publish shall give special treat keep secret way thank wish',\n",
              " 'happi birthday may ur dream come true',\n",
              " 'aiyah u ok alreadi lar e nydc wheellock',\n",
              " 'tell said eat shit',\n",
              " 'sure drive reach destin soon',\n",
              " 'k much th fifti',\n",
              " 'daili text favour time',\n",
              " 'great hear settl well happenin wit ola',\n",
              " 'cocksuck make feel better ipad worthless garbag novelti item feel bad even want one',\n",
              " 'tot u reach liao said shirt',\n",
              " 'fran decid go n e way im complet broke knacker got bout c u mrw love janx p dad fone credit',\n",
              " 'cant pick phone right pl send messag',\n",
              " 'right make appoint right',\n",
              " 'design softwar develop may get chennai',\n",
              " 'enjoy jamster videosound gold club credit new videosound logo musicnew get fun jamster co uk help call',\n",
              " 'get lion england tone repli lionm mono lionp poli go www rington co uk origin n best tone gbp network oper rate appli',\n",
              " 'jokin oni lar busi wun disturb',\n",
              " 'ok care text drive',\n",
              " 'alway even spirit get bb soon tri sure need',\n",
              " 'u r much close heart u go away shatter plz stay',\n",
              " 'love u babe r u sure everyth alrit idiot txt bak girli',\n",
              " 'abt make pic bigger',\n",
              " 'got got colour lor one colour quit light n e darker lor actual done style hair',\n",
              " 'whenevr ur sad whenevr ur gray remembr im listn watevr u wanna say ju walk wid littl amp promis bring back ur smile',\n",
              " 'noth ok anyway give treat',\n",
              " 'win newest harri potter order phoenix book repli harri answer question chanc first among reader',\n",
              " 'ok',\n",
              " 'correct work today',\n",
              " 'sent scream moan bed princess',\n",
              " 'wake long ago alreadi dunno thing',\n",
              " 'oh get even u u',\n",
              " 'thk shd ok said plu minu leav line paragraph',\n",
              " 'call plz number show coveragd area urgnt call vasai amp reach clock call plz',\n",
              " 'yeah jay sort fuck retard',\n",
              " 'sorri bathroom sup',\n",
              " 'ur balanc ur next question sang uptown girl answer txt ur answer good luck',\n",
              " 'exam februari wish great day',\n",
              " 'dont know come ask question like dont mistak',\n",
              " 'aight rush ask jay',\n",
              " 'good morn plz call sir',\n",
              " 'ok lar u sleep earli nite',\n",
              " 'oh icic k lor den meet day',\n",
              " 'oh half hour much longer syria canada eh wow must get much work done day us extra time grin',\n",
              " 'sometim put wall around heart safe get hurt find care enough break wall amp get closer goodnoon',\n",
              " 'sweet may may go u meet carlo gaug patti interest',\n",
              " 'buy today need c meh',\n",
              " 'aight sorri take ten year shower plan',\n",
              " 'everi monday nxt week vl complet',\n",
              " 'might ax well im',\n",
              " 'chill anoth hr could sleep pain surgic emerg see unfold okay',\n",
              " 'yeah tri scroung someth',\n",
              " 'crazi ar marri like gd look guy fren like say korean leona fave dun thk aft think mayb prob go',\n",
              " ...]"
            ]
          },
          "metadata": {
            "tags": []
          },
          "execution_count": 8
        }
      ]
    },
    {
      "cell_type": "code",
      "metadata": {
        "colab": {
          "base_uri": "https://localhost:8080/"
        },
        "id": "aeAwiHekb97e",
        "outputId": "29120dac-1204-4db0-f767-94d967944e6a"
      },
      "source": [
        "len(corpus)"
      ],
      "execution_count": null,
      "outputs": [
        {
          "output_type": "execute_result",
          "data": {
            "text/plain": [
              "4837"
            ]
          },
          "metadata": {
            "tags": []
          },
          "execution_count": 9
        }
      ]
    },
    {
      "cell_type": "code",
      "metadata": {
        "id": "-IKvVJjha5Nf",
        "colab": {
          "base_uri": "https://localhost:8080/"
        },
        "outputId": "2d608bc6-94e3-4c77-9802-9516db3512d4"
      },
      "source": [
        "from sklearn.feature_extraction.text import CountVectorizer\n",
        "cv = CountVectorizer(max_features=5500)\n",
        "x = cv.fit_transform(corpus).toarray()\n",
        "x"
      ],
      "execution_count": null,
      "outputs": [
        {
          "output_type": "execute_result",
          "data": {
            "text/plain": [
              "array([[0, 0, 0, ..., 0, 0, 0],\n",
              "       [0, 0, 0, ..., 0, 0, 0],\n",
              "       [0, 0, 0, ..., 0, 0, 0],\n",
              "       ...,\n",
              "       [0, 0, 0, ..., 0, 0, 0],\n",
              "       [0, 0, 0, ..., 0, 0, 0],\n",
              "       [0, 0, 0, ..., 0, 0, 0]])"
            ]
          },
          "metadata": {
            "tags": []
          },
          "execution_count": 10
        }
      ]
    },
    {
      "cell_type": "markdown",
      "metadata": {
        "id": "hMvPVGufREvg"
      },
      "source": [
        "Dumping the count vectorizer"
      ]
    },
    {
      "cell_type": "code",
      "metadata": {
        "id": "iIUK9x9SQl1Y"
      },
      "source": [
        "pickle.dump(cv,open('cv.pkl','wb'))"
      ],
      "execution_count": null,
      "outputs": []
    },
    {
      "cell_type": "code",
      "metadata": {
        "colab": {
          "base_uri": "https://localhost:8080/",
          "height": 300
        },
        "id": "Y0Foj99cHkz_",
        "outputId": "4fc350b1-d25e-4c90-b299-93f1e073830a"
      },
      "source": [
        "import matplotlib.pyplot as plt\n",
        "df['Spam'].value_counts().plot(kind='bar')"
      ],
      "execution_count": null,
      "outputs": [
        {
          "output_type": "execute_result",
          "data": {
            "text/plain": [
              "<matplotlib.axes._subplots.AxesSubplot at 0x7f363ee1c2d0>"
            ]
          },
          "metadata": {
            "tags": []
          },
          "execution_count": 14
        },
        {
          "output_type": "display_data",
          "data": {
            "image/png": "[encoded data removed]",
            "text/plain": [
              "<Figure size 432x288 with 1 Axes>"
            ]
          },
          "metadata": {
            "tags": [],
            "needs_background": "light"
          }
        }
      ]
    },
    {
      "cell_type": "code",
      "metadata": {
        "id": "pb0VC2YkcQNA",
        "colab": {
          "base_uri": "https://localhost:8080/"
        },
        "outputId": "dc3493be-952c-493b-db83-b2d9418f2b21"
      },
      "source": [
        "y = pd.get_dummies(df['Spam'])\n",
        "y = y.iloc[:,1].values\n",
        "y"
      ],
      "execution_count": null,
      "outputs": [
        {
          "output_type": "execute_result",
          "data": {
            "text/plain": [
              "array([0, 0, 1, ..., 0, 0, 0], dtype=uint8)"
            ]
          },
          "metadata": {
            "tags": []
          },
          "execution_count": 15
        }
      ]
    },
    {
      "cell_type": "markdown",
      "metadata": {
        "id": "7IPXfaBxRIz2"
      },
      "source": [
        "#### Modeling and Training\n",
        "##### Splitting data into train and validation sets using train_test_split"
      ]
    },
    {
      "cell_type": "code",
      "metadata": {
        "id": "EaE-9JNYgrdU"
      },
      "source": [
        "from sklearn.model_selection import train_test_split\n",
        "x_train, x_test, y_train, y_test = train_test_split(x,y,test_size=0.20,random_state=0)"
      ],
      "execution_count": null,
      "outputs": []
    },
    {
      "cell_type": "markdown",
      "metadata": {
        "id": "RK7-8jYcAopn"
      },
      "source": [
        "1. Gaussian Nb - for features with decimal form\n",
        "2. Multinomial Nb - for features with discrete value \n",
        "3. Bernoulli nb - for features with boolean value"
      ]
    },
    {
      "cell_type": "code",
      "metadata": {
        "colab": {
          "base_uri": "https://localhost:8080/"
        },
        "id": "YcgHDc-BdUoE",
        "outputId": "9d9acd28-a6fd-4cda-9fb3-ef1b8881b9b2"
      },
      "source": [
        "from sklearn.naive_bayes import MultinomialNB\n",
        "nb = MultinomialNB()\n",
        "nb.fit(x_train,y_train)"
      ],
      "execution_count": null,
      "outputs": [
        {
          "output_type": "execute_result",
          "data": {
            "text/plain": [
              "MultinomialNB(alpha=1.0, class_prior=None, fit_prior=True)"
            ]
          },
          "metadata": {
            "tags": []
          },
          "execution_count": 17
        }
      ]
    },
    {
      "cell_type": "code",
      "metadata": {
        "colab": {
          "base_uri": "https://localhost:8080/"
        },
        "id": "DFrd_WTgd-wC",
        "outputId": "eccddee4-375b-402b-982f-ba0ec7ece044"
      },
      "source": [
        "y_pred = nb.predict(x_test)\n",
        "y_pred"
      ],
      "execution_count": null,
      "outputs": [
        {
          "output_type": "execute_result",
          "data": {
            "text/plain": [
              "array([0, 0, 0, 0, 0, 0, 0, 0, 0, 0, 0, 0, 0, 0, 0, 0, 0, 0, 0, 0, 0, 0,\n",
              "       1, 0, 0, 0, 0, 0, 0, 1, 0, 0, 0, 0, 0, 0, 0, 0, 0, 1, 0, 0, 0, 0,\n",
              "       0, 0, 0, 0, 0, 0, 0, 0, 0, 0, 0, 1, 0, 0, 0, 0, 0, 0, 0, 1, 0, 1,\n",
              "       0, 0, 0, 1, 0, 0, 0, 0, 0, 1, 0, 0, 1, 0, 0, 0, 0, 0, 0, 0, 1, 0,\n",
              "       0, 0, 0, 0, 0, 0, 0, 0, 0, 0, 1, 0, 0, 1, 0, 0, 0, 0, 0, 0, 1, 1,\n",
              "       0, 1, 0, 0, 0, 0, 0, 0, 1, 1, 0, 0, 0, 0, 0, 1, 0, 0, 0, 0, 0, 0,\n",
              "       0, 0, 0, 0, 0, 0, 0, 0, 0, 0, 0, 0, 0, 0, 0, 0, 1, 0, 0, 0, 0, 1,\n",
              "       0, 0, 1, 0, 0, 0, 0, 1, 0, 0, 0, 0, 0, 0, 0, 0, 0, 0, 0, 0, 0, 0,\n",
              "       0, 1, 0, 1, 0, 0, 0, 0, 0, 0, 0, 0, 0, 0, 0, 0, 0, 0, 0, 0, 0, 0,\n",
              "       1, 0, 0, 0, 0, 0, 0, 0, 0, 0, 0, 0, 0, 1, 0, 0, 0, 1, 0, 0, 0, 0,\n",
              "       0, 0, 0, 1, 0, 1, 0, 0, 0, 0, 0, 0, 0, 0, 0, 0, 1, 0, 0, 1, 0, 0,\n",
              "       0, 0, 0, 0, 0, 0, 0, 0, 0, 0, 0, 0, 0, 0, 0, 0, 0, 0, 0, 0, 0, 0,\n",
              "       0, 0, 1, 1, 0, 0, 0, 0, 0, 0, 0, 1, 0, 0, 0, 0, 0, 1, 0, 0, 0, 1,\n",
              "       0, 1, 0, 0, 1, 0, 0, 0, 0, 1, 0, 0, 0, 0, 0, 0, 0, 0, 0, 0, 0, 0,\n",
              "       1, 1, 0, 0, 0, 0, 0, 0, 0, 0, 0, 0, 0, 0, 0, 0, 0, 0, 1, 0, 0, 1,\n",
              "       0, 0, 0, 0, 0, 1, 0, 0, 1, 0, 0, 0, 1, 1, 0, 0, 0, 0, 0, 1, 0, 0,\n",
              "       0, 0, 0, 0, 0, 0, 0, 0, 1, 0, 0, 1, 0, 0, 0, 1, 0, 0, 0, 0, 1, 0,\n",
              "       0, 0, 0, 0, 1, 0, 1, 0, 1, 0, 0, 0, 1, 0, 1, 0, 0, 1, 0, 0, 0, 1,\n",
              "       0, 0, 0, 1, 0, 0, 0, 0, 0, 0, 1, 0, 0, 1, 1, 0, 0, 0, 0, 0, 1, 0,\n",
              "       0, 1, 0, 0, 0, 0, 0, 0, 0, 0, 0, 0, 0, 0, 1, 1, 0, 0, 0, 0, 0, 0,\n",
              "       1, 0, 0, 0, 0, 0, 0, 0, 1, 0, 0, 0, 0, 1, 0, 0, 0, 0, 0, 1, 0, 0,\n",
              "       0, 0, 1, 0, 0, 0, 0, 0, 1, 0, 1, 0, 1, 0, 0, 0, 0, 0, 0, 0, 0, 0,\n",
              "       0, 0, 0, 0, 1, 0, 0, 0, 0, 0, 1, 1, 0, 0, 0, 0, 0, 0, 1, 0, 0, 0,\n",
              "       0, 0, 0, 0, 1, 0, 0, 0, 1, 0, 0, 0, 0, 0, 0, 0, 0, 1, 0, 0, 0, 1,\n",
              "       0, 0, 0, 0, 1, 0, 0, 0, 0, 0, 0, 0, 0, 0, 0, 0, 0, 0, 0, 0, 0, 0,\n",
              "       0, 0, 0, 0, 0, 0, 0, 1, 0, 0, 0, 0, 1, 0, 0, 0, 0, 0, 1, 0, 0, 0,\n",
              "       0, 0, 0, 1, 1, 0, 0, 1, 1, 0, 0, 0, 0, 0, 0, 1, 0, 0, 0, 0, 0, 0,\n",
              "       0, 0, 0, 0, 1, 0, 0, 0, 0, 0, 0, 0, 0, 0, 0, 0, 0, 0, 0, 0, 0, 0,\n",
              "       0, 0, 0, 0, 1, 0, 0, 0, 0, 1, 0, 0, 0, 1, 1, 0, 0, 0, 0, 0, 0, 0,\n",
              "       1, 0, 0, 0, 0, 1, 0, 1, 0, 0, 0, 0, 0, 0, 0, 0, 0, 0, 0, 0, 0, 0,\n",
              "       0, 0, 0, 0, 0, 0, 1, 1, 0, 0, 0, 0, 0, 0, 0, 0, 0, 0, 0, 1, 1, 1,\n",
              "       0, 0, 1, 0, 0, 1, 0, 0, 0, 0, 1, 0, 0, 1, 0, 0, 0, 0, 0, 0, 0, 0,\n",
              "       0, 0, 0, 0, 0, 0, 0, 0, 0, 0, 1, 1, 0, 0, 0, 1, 0, 0, 0, 1, 0, 0,\n",
              "       0, 0, 0, 0, 1, 0, 0, 0, 0, 0, 0, 0, 0, 1, 1, 0, 0, 1, 0, 0, 0, 0,\n",
              "       0, 0, 0, 0, 0, 0, 0, 1, 0, 0, 0, 0, 0, 0, 0, 0, 0, 0, 0, 0, 0, 1,\n",
              "       0, 1, 0, 0, 0, 0, 0, 1, 0, 0, 0, 0, 0, 0, 0, 0, 0, 0, 0, 0, 0, 0,\n",
              "       1, 0, 0, 0, 0, 1, 0, 0, 0, 1, 0, 0, 0, 0, 0, 0, 0, 0, 1, 0, 0, 0,\n",
              "       0, 0, 1, 0, 1, 0, 0, 0, 1, 0, 0, 0, 0, 0, 0, 0, 1, 0, 1, 0, 0, 0,\n",
              "       0, 0, 0, 0, 0, 0, 0, 0, 1, 0, 0, 0, 0, 0, 0, 0, 0, 0, 1, 0, 0, 0,\n",
              "       0, 0, 1, 0, 1, 0, 0, 0, 0, 0, 0, 0, 0, 0, 1, 0, 0, 0, 0, 0, 0, 0,\n",
              "       0, 1, 1, 0, 0, 0, 0, 0, 0, 0, 0, 0, 1, 0, 1, 0, 0, 0, 0, 1, 0, 0,\n",
              "       0, 0, 0, 0, 0, 0, 0, 0, 0, 0, 0, 0, 0, 0, 0, 0, 0, 0, 0, 0, 0, 0,\n",
              "       1, 0, 0, 0, 0, 1, 0, 0, 0, 0, 0, 1, 0, 0, 1, 0, 0, 0, 0, 0, 0, 0,\n",
              "       0, 0, 0, 0, 0, 0, 0, 0, 0, 0, 0, 0, 0, 0, 0, 0, 0, 1, 0, 0, 0, 0],\n",
              "      dtype=uint8)"
            ]
          },
          "metadata": {
            "tags": []
          },
          "execution_count": 18
        }
      ]
    },
    {
      "cell_type": "markdown",
      "metadata": {
        "id": "riSnuuiRRX3z"
      },
      "source": [
        "Evaluating the model"
      ]
    },
    {
      "cell_type": "code",
      "metadata": {
        "colab": {
          "base_uri": "https://localhost:8080/"
        },
        "id": "aC2E_zrxefh2",
        "outputId": "ae65e5a8-5712-4e83-d8b3-a3ae17af39c7"
      },
      "source": [
        "from sklearn.metrics import confusion_matrix,accuracy_score\n",
        "cm = confusion_matrix(y_pred,y_test)\n",
        "ac = accuracy_score(y_test,y_pred)\n",
        "print(\"Accuracy_score :\",ac)\n",
        "print(\"\\nConfusion Matrix:\\n\",cm)\n"
      ],
      "execution_count": null,
      "outputs": [
        {
          "output_type": "stream",
          "text": [
            "Accuracy_score : 0.9824380165289256\n",
            "\n",
            "Confusion Matrix:\n",
            " [[820   3]\n",
            " [ 14 131]]\n"
          ],
          "name": "stdout"
        }
      ]
    },
    {
      "cell_type": "code",
      "metadata": {
        "id": "rtm7oodNewHb"
      },
      "source": [
        "pickle.dump(nb,open('spam.pkl','wb'))"
      ],
      "execution_count": null,
      "outputs": []
    },
    {
      "cell_type": "code",
      "metadata": {
        "colab": {
          "base_uri": "https://localhost:8080/"
        },
        "id": "a8FTVtBDg7Lq",
        "outputId": "7dc22b91-09b1-44ba-c059-916d1aa10f27"
      },
      "source": [
        "loaded_model = pickle.load(open('spam.pkl','rb'))\n",
        "loaded_model.predict(x_test)\n",
        "loaded_model.score(x_test,y_test)"
      ],
      "execution_count": null,
      "outputs": [
        {
          "output_type": "execute_result",
          "data": {
            "text/plain": [
              "0.9824380165289256"
            ]
          },
          "metadata": {
            "tags": []
          },
          "execution_count": 35
        }
      ]
    },
    {
      "cell_type": "markdown",
      "metadata": {
        "id": "qDnfxgVzQupC"
      },
      "source": [
        "Prediction for new mail\n"
      ]
    },
    {
      "cell_type": "code",
      "metadata": {
        "id": "ejaf0xB9hrR0",
        "colab": {
          "base_uri": "https://localhost:8080/"
        },
        "outputId": "4cb86a31-20cb-4525-fb81-7c2d20ad8669"
      },
      "source": [
        "def new_review(new_review):\n",
        "  new_review = new_review\n",
        "  new_review = re.sub('[^a-zA-Z]',' ',new_review)\n",
        "  new_review = new_review.lower()\n",
        "  all_stopwords = stopwords.words('english')\n",
        "  all_stopwords.remove('not')\n",
        "  new_review = [ stemmer.stem(word) for word in new_review if word not in all_stopwords]\n",
        "  new_review = ' '.join(new_review)\n",
        "  new_corpus = [new_review]\n",
        "  x_pred    = cv.transform(new_corpus).toarray()\n",
        "  y_pred    = loaded_model.predict(x_pred)\n",
        "  return y_pred\n",
        "\n",
        "new = new_review(str(input(\"Enter email to check: \")))\n",
        "print(new)\n",
        "if new == 1:\n",
        "  print(\"Spam\")\n",
        "else:\n",
        "  print(\"Not Spam\")\n"
      ],
      "execution_count": null,
      "outputs": [
        {
          "output_type": "stream",
          "text": [
            "Enter email to check: hope you are well regards,me\n",
            "[0]\n",
            "Not Spam\n"
          ],
          "name": "stdout"
        }
      ]
    },
    {
      "cell_type": "code",
      "metadata": {
        "id": "kROosXMdHe0F"
      },
      "source": [
        ""
      ],
      "execution_count": null,
      "outputs": []
    }
  ]
}